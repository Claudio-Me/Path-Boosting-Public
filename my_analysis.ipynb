{
 "cells": [
  {
   "cell_type": "code",
   "source": [
    "from sklearn import metrics\n",
    "import numpy as np\n",
    "from classes.boosting_matrix import BoostingMatrix\n",
    "from classes.dataset import Dataset\n",
    "from settings import Settings\n",
    "import matplotlib.pyplot as plt\n",
    "from matplotlib.ticker import MaxNLocator\n",
    "from collections import Counter\n",
    "from classes.pattern_boosting import PatternBoosting\n",
    "from settings import Settings\n",
    "from classes.enumeration.estimation_type import EstimationType\n",
    "from data.synthetic_dataset import SyntheticDataset\n",
    "import pandas as pd\n",
    "import copy\n",
    "import matplotlib.pyplot as plt\n",
    "from classes.analysis_patternboosting import AnalysisPatternBoosting\n",
    "from data.load_dataset import load_dataset\n",
    "from data import data_reader\n",
    "from xgboost import XGBRegressor\n",
    "from sklearn.model_selection import train_test_split\n",
    "from multiprocessing.dummy import Pool as ThreadPool\n",
    "import functools\n",
    "import copy\n",
    "from data import data_reader\n",
    "from jupiter_notebook_functions import *\n",
    "from classes.wrapper_pattern_boosting import WrapperPatternBoosting\n",
    "from classes import analysis"
   ],
   "metadata": {
    "collapsed": false,
    "pycharm": {
     "name": "#%%\n"
    },
    "ExecuteTime": {
     "end_time": "2024-10-01T05:48:27.917470Z",
     "start_time": "2024-10-01T05:48:26.459709Z"
    }
   },
   "outputs": [],
   "execution_count": 1
  },
  {
   "cell_type": "code",
   "execution_count": null,
   "outputs": [],
   "source": [
    "analysis = AnalysisPatternBoosting()\n",
    "directory = data_reader.get_save_location(folder_relative_path=\"results\")\n",
    "directory = '/Users/popcorn/PycharmProjects/pattern_boosting/results/Xgb_step_5000_max_path_length_103_5_k_selection_graphs_gbtree/'\n",
    "\n",
    "analysis.load_and_analyze(directory=directory,\n",
    "                          show=True,\n",
    "                          save=False)"
   ],
   "metadata": {
    "collapsed": false,
    "pycharm": {
     "name": "#%%\n"
    }
   }
  },
  {
   "cell_type": "code",
   "execution_count": null,
   "outputs": [],
   "source": [
    "from classes import analysis\n",
    "directory = data_reader.get_save_location(folder_relative_path=\"results\")\n",
    "directory = '/Users/popcorn/PycharmProjects/pattern_boosting/results/Xgb_step_60_max_path_length_102_60k_dataset/wrapped_boosting/'\n",
    "\n",
    "\n",
    "wrapper_boosting = data_reader.load_data(directory=directory, filename=\"wrapper_pattern_boosting\")\n",
    "\n",
    "analysis.plot_error_evolution(wrapper_boosting.train_error, dataset='Train', show=True, save=False)\n",
    "\n",
    "analysis.plot_error_evolution(wrapper_boosting.test_error, dataset='Test', show=True, save=False)\n"
   ],
   "metadata": {
    "collapsed": false,
    "pycharm": {
     "name": "#%%\n"
    }
   }
  },
  {
   "cell_type": "markdown",
   "source": [
    "Start by loading the model \"pattern_boosting\" and getting the frequency matrix"
   ],
   "metadata": {
    "collapsed": false,
    "pycharm": {
     "name": "#%% md\n"
    }
   }
  },
  {
   "cell_type": "code",
   "execution_count": null,
   "outputs": [],
   "source": [
    "#directory = data_reader.get_save_location(folder_relative_path=\"results/jupiter\", create_unique_subfolder=True)\n",
    "directory='/Users/popcorn/PycharmProjects/pattern_boosting/results/Xgb_step_2000_max_path_length_101_5_k_selection_graphs_gbtree/'\n",
    "pattern_boosting = data_reader.load_data(directory=directory, filename=\"pattern_boosting\")\n",
    "frequency_matrix = pd.DataFrame(pattern_boosting.boosting_matrix.get_matrix(),\n",
    "                                columns=pattern_boosting.boosting_matrix.get_header())"
   ],
   "metadata": {
    "collapsed": false,
    "pycharm": {
     "name": "#%%\n"
    }
   }
  },
  {
   "cell_type": "markdown",
   "source": [
    "Frequency matrix:"
   ],
   "metadata": {
    "collapsed": false,
    "pycharm": {
     "name": "#%% md\n"
    }
   }
  },
  {
   "cell_type": "code",
   "execution_count": null,
   "outputs": [],
   "source": [
    "tmp = frequency_matrix.sort_values(by=list(frequency_matrix.columns), ascending=False)\n",
    "tmp.iloc[: 5, : 9]"
   ],
   "metadata": {
    "collapsed": false,
    "pycharm": {
     "name": "#%%\n"
    }
   }
  },
  {
   "cell_type": "markdown",
   "source": [
    "Most common paths (counted by the total number of time they are present):"
   ],
   "metadata": {
    "collapsed": false,
    "pycharm": {
     "name": "#%% md\n"
    }
   }
  },
  {
   "cell_type": "code",
   "execution_count": null,
   "outputs": [],
   "source": [
    "paths_total_presence = frequency_matrix.sum()\n",
    "paths_total_presence.sort_values(ascending=False)[:5]"
   ],
   "metadata": {
    "collapsed": false,
    "pycharm": {
     "name": "#%%\n"
    }
   }
  },
  {
   "cell_type": "markdown",
   "source": [
    "Number of graph a path is present in"
   ],
   "metadata": {
    "collapsed": false,
    "pycharm": {
     "name": "#%% md\n"
    }
   }
  },
  {
   "cell_type": "code",
   "execution_count": null,
   "outputs": [],
   "source": [
    "presence_per_observation = frequency_matrix.astype(bool).sum(axis=0)\n",
    "presence_per_observation.sort_values(ascending=False)"
   ],
   "metadata": {
    "collapsed": false,
    "pycharm": {
     "name": "#%%\n"
    }
   }
  },
  {
   "cell_type": "markdown",
   "source": [
    "Find paths up to length 'max_length' whose precessors are present in proportion p1,p2,p3, with boundaries \"acceptable_error\", note the ratio is made on the number of graphs a path is present, NOT the total number of times"
   ],
   "metadata": {
    "collapsed": false,
    "pycharm": {
     "name": "#%% md\n"
    }
   }
  },
  {
   "cell_type": "code",
   "execution_count": null,
   "outputs": [],
   "source": [
    "max_length = 4\n",
    "proportions = [1, 0.5, 0.25, 0.125]\n",
    "acceptable_error = 0.1\n",
    "\n"
   ],
   "metadata": {
    "collapsed": false,
    "pycharm": {
     "name": "#%%\n"
    }
   }
  },
  {
   "cell_type": "code",
   "execution_count": null,
   "outputs": [],
   "source": [
    "\n",
    "\n",
    "finally_selected_paths = []\n",
    "\n",
    "for index, value in presence_per_observation.items():\n",
    "    ratios, founded_paths = get_ratio_with_next_paths(parent_index=index, parent_value=value,\n",
    "                                                      presence_per_observation=presence_per_observation,\n",
    "                                                      ratio=proportions[1], acccepred_error=acceptable_error)\n",
    "\n",
    "    for i, path in enumerate(founded_paths):\n",
    "        selected_ratios, selected_paths = get_ratio_with_next_paths(parent_index=path,\n",
    "                                                                    parent_value=presence_per_observation[path],\n",
    "                                                                    presence_per_observation=presence_per_observation,\n",
    "                                                                    ratio=proportions[2],\n",
    "                                                                    acccepred_error=acceptable_error)\n",
    "        finally_selected_paths = copy.copy(finally_selected_paths + selected_paths)\n",
    "\n",
    "finally_selected_paths\n",
    "\n",
    "directory = data_reader.get_save_location(folder_relative_path=\"results/jupiter\", create_unique_subfolder=True)\n",
    "data_reader.save_dataset_in_binary_file(dataset=finally_selected_paths, directory=directory,\n",
    "                                        filename=\"finally_selected_paths\")"
   ],
   "metadata": {
    "collapsed": false,
    "pycharm": {
     "name": "#%%\n"
    }
   }
  },
  {
   "cell_type": "markdown",
   "source": [
    "Paths that respect the first two ratios:"
   ],
   "metadata": {
    "collapsed": false,
    "pycharm": {
     "name": "#%% md\n"
    }
   }
  },
  {
   "cell_type": "code",
   "execution_count": null,
   "outputs": [],
   "source": [
    "directory = data_reader.get_save_location(folder_relative_path=\"results/jupiter\", create_unique_subfolder=True)\n",
    "finally_selected_paths = data_reader.load_data(directory=directory, filename=\"finally_selected_paths\")\n",
    "\n",
    "selected_paths = [item for item in finally_selected_paths if len(item) == 3]\n",
    "selected_paths[:10]"
   ],
   "metadata": {
    "collapsed": false,
    "pycharm": {
     "name": "#%%\n"
    }
   }
  },
  {
   "cell_type": "markdown",
   "source": [
    "Now we generate the target paths, including the paths of length one and two"
   ],
   "metadata": {
    "collapsed": false,
    "pycharm": {
     "name": "#%% md\n"
    }
   }
  },
  {
   "cell_type": "code",
   "execution_count": null,
   "outputs": [],
   "source": [
    "target_paths = []\n",
    "for path in selected_paths:\n",
    "    for i in range(len(path)):\n",
    "        target_paths.append(path[:i])"
   ],
   "metadata": {
    "collapsed": false,
    "pycharm": {
     "name": "#%%\n"
    }
   }
  },
  {
   "cell_type": "markdown",
   "source": [
    "Correlation matrices of subpaths"
   ],
   "metadata": {
    "collapsed": false,
    "pycharm": {
     "name": "#%% md\n"
    }
   }
  },
  {
   "cell_type": "code",
   "execution_count": null,
   "outputs": [],
   "source": [
    "\n",
    "\n",
    "# number of plots per row\n",
    "nppr = 3\n",
    "\n",
    "number_of_plots = 10\n",
    "\n",
    "nr_rows = ceildiv(len(selected_paths[:number_of_plots]), nppr)\n",
    "fig, axs = plt.subplots(nr_rows, nppr)\n",
    "fig.tight_layout()\n",
    "\n",
    "for j, path in enumerate(selected_paths[:number_of_plots]):\n",
    "    subpaths = []\n",
    "    for i in range(1, len(path) + 1):\n",
    "        subpaths.append(path[:i])\n",
    "        column_number = j % nppr\n",
    "        row_number = j // nppr\n",
    "        axs[row_number, column_number].matshow(frequency_matrix[subpaths].corr())\n",
    "        axs[row_number, column_number].set_title(str(path))"
   ],
   "metadata": {
    "collapsed": false,
    "pycharm": {
     "name": "#%%\n"
    }
   }
  },
  {
   "cell_type": "code",
   "execution_count": null,
   "outputs": [],
   "source": [
    "nr_rows = ceildiv(len(selected_paths[number_of_plots:]), nppr)\n",
    "fig, axs = plt.subplots(nr_rows, nppr)\n",
    "fig.tight_layout()\n",
    "\n",
    "for j, path in enumerate(selected_paths[number_of_plots:]):\n",
    "    subpaths = []\n",
    "    for i in range(1, len(path) + 1):\n",
    "        subpaths.append(path[:i])\n",
    "        column_number = j % nppr\n",
    "        row_number = j // nppr\n",
    "        axs[row_number, column_number].matshow(frequency_matrix[subpaths].corr())\n",
    "        axs[row_number, column_number].set_title(str(path))"
   ],
   "metadata": {
    "collapsed": false,
    "pycharm": {
     "name": "#%%\n"
    }
   }
  },
  {
   "cell_type": "markdown",
   "source": [
    "Correlation matrix over all the paths"
   ],
   "metadata": {
    "collapsed": false,
    "pycharm": {
     "name": "#%% md\n"
    }
   }
  },
  {
   "cell_type": "code",
   "execution_count": null,
   "outputs": [],
   "source": [
    "target_paths = list({(57, 7, 7), (57, 7), (57,),\n",
    "                     (72, 7, 14), (72, 7), (72,),\n",
    "                     (78, 6, 7), (78, 6), (78,),\n",
    "                     (47, 7, 7), (47, 7), (47,),\n",
    "                     (74, 15, 8), (74, 15), (74,),\n",
    "                     (80, 7, 7), (80, 7), (80,),\n",
    "                     (77, 7, 7), (77, 7), (77,),\n",
    "                     (40, 7, 14), (40, 7), (40,),\n",
    "                     (21, 7, 14), (21, 7), (21,),\n",
    "                     (27, 6, 5), (27, 6), (27,),\n",
    "                     (27, 6, 8),\n",
    "                     (42, 7, 7), (42, 7), (42,),\n",
    "                     (39, 7, 7), (39, 7), (39,),\n",
    "                     (39, 7, 14),\n",
    "                     (39, 6, 7), (39, 6),\n",
    "                     (39, 6, 14),\n",
    "                     (39, 6, 5),\n",
    "                     (45, 7, 7), (45, 7), (45,),\n",
    "                     (48, 8, 7), (48, 8), (48,)})\n",
    "plt.matshow(frequency_matrix[target_paths].corr())\n"
   ],
   "metadata": {
    "collapsed": false,
    "pycharm": {
     "name": "#%%\n"
    }
   }
  },
  {
   "cell_type": "code",
   "execution_count": null,
   "outputs": [],
   "source": [
    "\n",
    "\n",
    "\n",
    "\n",
    "\n"
   ],
   "metadata": {
    "collapsed": false,
    "pycharm": {
     "name": "#%%\n"
    }
   }
  },
  {
   "cell_type": "code",
   "execution_count": null,
   "outputs": [],
   "source": [
    "analysis = AnalysisPatternBoosting()\n",
    "directory = data_reader.get_save_location(folder_relative_path=\"results\")\n",
    "directory = '/Users/popcorn/PycharmProjects/pattern_boosting/results/Xgb_step_2000_max_path_length_101_5_k_selection_graphs_gbtree/'\n",
    "\n",
    "analysis.load_and_analyze(directory=directory,\n",
    "                          show=True,\n",
    "                          save=False)"
   ],
   "metadata": {
    "collapsed": false,
    "pycharm": {
     "name": "#%%\n"
    }
   }
  },
  {
   "cell_type": "code",
   "execution_count": null,
   "outputs": [],
   "source": [
    "\n",
    "analysis = AnalysisPatternBoosting()\n",
    "directory = data_reader.get_save_location(folder_relative_path=\"results\")\n",
    "directory = '/Users/popcorn/PycharmProjects/pattern_boosting/results/Xgb_step_20_max_path_length_100_60k_dataset'\n",
    "\n",
    "analysis.load_and_analyze(directory=directory,\n",
    "                          show=True,\n",
    "                          save=True)"
   ],
   "metadata": {
    "collapsed": false,
    "pycharm": {
     "name": "#%%\n"
    }
   }
  },
  {
   "cell_type": "markdown",
   "source": [
    "Here we run classic xgb ove the whole frequency matrix (the matrix is computed over the 5k selection dataset)"
   ],
   "metadata": {
    "collapsed": false,
    "pycharm": {
     "name": "#%% md\n"
    }
   }
  },
  {
   "cell_type": "markdown",
   "source": [
    "first load the matrix"
   ],
   "metadata": {
    "collapsed": false,
    "pycharm": {
     "name": "#%% md\n"
    }
   }
  },
  {
   "cell_type": "code",
   "execution_count": null,
   "outputs": [],
   "source": [
    "directory = data_reader.get_save_location(folder_relative_path=\"results/jupiter\", create_unique_subfolder=True)\n",
    "pattern_boosting = data_reader.load_data(directory=directory, filename=\"frequency_matrix\")\n",
    "\n",
    "dataset = load_dataset(\"5_k_selection_graphs\")\n",
    "\n"
   ],
   "metadata": {
    "collapsed": false,
    "pycharm": {
     "name": "#%%\n"
    }
   }
  },
  {
   "cell_type": "code",
   "execution_count": null,
   "outputs": [],
   "source": [
    "\n",
    "from sklearn import metrics\n",
    "import numpy as np\n",
    "from classes.boosting_matrix import BoostingMatrix\n",
    "from classes.dataset import Dataset\n",
    "from settings import Settings\n",
    "import matplotlib.pyplot as plt\n",
    "from matplotlib.ticker import MaxNLocator\n",
    "from collections import Counter\n",
    "from classes.pattern_boosting import PatternBoosting\n",
    "from settings import Settings\n",
    "from classes.enumeration.estimation_type import EstimationType\n",
    "from data.synthetic_dataset import SyntheticDataset\n",
    "import pandas as pd\n",
    "import copy\n",
    "import matplotlib.pyplot as plt\n",
    "from classes.analysis_patternboosting import AnalysisPatternBoosting\n",
    "from data.load_dataset import load_dataset\n",
    "from data import data_reader\n",
    "from xgboost import XGBRegressor\n",
    "from sklearn.model_selection import train_test_split\n",
    "from multiprocessing.dummy import Pool as ThreadPool\n",
    "import functools\n",
    "import copy\n",
    "from data import data_reader\n",
    "from classes.wrapper_pattern_boosting import WrapperPatternBoosting\n",
    "from jupiter_notebook_functions import *\n",
    "from classes.wrapper_pattern_boosting import WrapperPatternBoosting\n"
   ],
   "metadata": {
    "collapsed": false,
    "pycharm": {
     "name": "#%%\n"
    }
   }
  },
  {
   "cell_type": "markdown",
   "source": [
    "Start by loading the model \"pattern_boosting\" and getting the frequency matrix"
   ],
   "metadata": {
    "collapsed": false,
    "pycharm": {
     "name": "#%% md\n"
    }
   }
  },
  {
   "cell_type": "code",
   "execution_count": null,
   "outputs": [],
   "source": [
    "directory = data_reader.get_save_location(folder_relative_path=\"results/jupiter\", create_unique_subfolder=True)\n",
    "pattern_boosting = data_reader.load_data(directory=directory, filename=\"pattern_boosting\")\n",
    "frequency_matrix = pd.DataFrame(pattern_boosting.boosting_matrix.get_matrix(),\n",
    "                                columns=pattern_boosting.boosting_matrix.get_header())"
   ],
   "metadata": {
    "collapsed": false,
    "pycharm": {
     "name": "#%%\n"
    }
   }
  },
  {
   "cell_type": "markdown",
   "source": [
    "Frequency matrix:"
   ],
   "metadata": {
    "collapsed": false,
    "pycharm": {
     "name": "#%% md\n"
    }
   }
  },
  {
   "cell_type": "code",
   "execution_count": null,
   "outputs": [],
   "source": [
    "tmp = frequency_matrix.sort_values(by=list(frequency_matrix.columns), ascending=False)\n",
    "tmp.iloc[: 5, : 9]"
   ],
   "metadata": {
    "collapsed": false,
    "pycharm": {
     "name": "#%%\n"
    }
   }
  },
  {
   "cell_type": "markdown",
   "source": [
    "Most common paths (counted by the total number of time they are present):"
   ],
   "metadata": {
    "collapsed": false,
    "pycharm": {
     "name": "#%% md\n"
    }
   }
  },
  {
   "cell_type": "code",
   "execution_count": null,
   "outputs": [],
   "source": [
    "paths_total_presence = frequency_matrix.sum()\n",
    "paths_total_presence.sort_values(ascending=False)[:5]"
   ],
   "metadata": {
    "collapsed": false,
    "pycharm": {
     "name": "#%%\n"
    }
   }
  },
  {
   "cell_type": "markdown",
   "source": [
    "Number of graph a path is present in"
   ],
   "metadata": {
    "collapsed": false,
    "pycharm": {
     "name": "#%% md\n"
    }
   }
  },
  {
   "cell_type": "code",
   "execution_count": null,
   "outputs": [],
   "source": [
    "presence_per_observation = frequency_matrix.astype(bool).sum(axis=0)\n",
    "presence_per_observation.sort_values(ascending=False)"
   ],
   "metadata": {
    "collapsed": false,
    "pycharm": {
     "name": "#%%\n"
    }
   }
  },
  {
   "cell_type": "markdown",
   "source": [
    "Find paths up to length 'max_length' whose precessors are present in proportion p1,p2,p3, with boundaries \"acceptable_error\", note the ratio is made on the number of graphs a path is present, NOT the total number of times"
   ],
   "metadata": {
    "collapsed": false,
    "pycharm": {
     "name": "#%% md\n"
    }
   }
  },
  {
   "cell_type": "code",
   "execution_count": null,
   "outputs": [],
   "source": [
    "max_length = 4\n",
    "proportions = [1, 0.5, 0.25, 0.125]\n",
    "acceptable_error = 0.1\n",
    "\n"
   ],
   "metadata": {
    "collapsed": false,
    "pycharm": {
     "name": "#%%\n"
    }
   }
  },
  {
   "cell_type": "code",
   "execution_count": null,
   "outputs": [],
   "source": [],
   "metadata": {
    "collapsed": false
   }
  },
  {
   "cell_type": "code",
   "execution_count": null,
   "outputs": [],
   "source": [
    "from jupiter_notebook_functions import *\n",
    "\n",
    "pd_pattern_boosting_matrix = pd.DataFrame(pattern_boosting.boosting_matrix.get_matrix(),\n",
    "                                          columns=pattern_boosting.boosting_matrix.get_header())\n",
    "\n",
    "\n",
    "#different split for train and test data\n",
    "def get_XGB_error_and_variable_importance_t(max_path_length, pattern_boosting, max_number_of_learners,\n",
    "                                            xgb_settings=None):\n",
    "    header = list(frequency_matrix.columns)\n",
    "\n",
    "    columns_to_be_removed = []\n",
    "    print(\"Setting up matrix ready\")\n",
    "    for i, path in enumerate(header):\n",
    "        if len(path) > max_path_length:\n",
    "            columns_to_be_removed.append(path)\n",
    "    print(\"Frequency matrix ready\")\n",
    "\n",
    "\n",
    "    if isinstance(pattern_boosting,PatternBoosting):\n",
    "        x_test = pattern_boosting.create_boosting_matrix_for(pattern_boosting.test_dataset)\n",
    "    elif isinstance(pattern_boosting, WrapperPatternBoosting):\n",
    "        x_test = pattern_boosting.create_ordered_boosting_matrix(pattern_boosting.test_dataset)\n",
    "    else:\n",
    "        raise TypeError(\"Unknown pattern Boosting type\")\n",
    "\n",
    "\n",
    "\n",
    "    x_train = pattern_boosting.boosting_matrix.matrix\n",
    "    y_test = pattern_boosting.test_dataset.labels\n",
    "    y_train = pattern_boosting.training_dataset.labels\n",
    "\n",
    "    if xgb_settings is None:\n",
    "        xgb_settings = Settings.xgb_model_parameters\n",
    "    if isinstance(max_number_of_learners, Iterable):\n",
    "        learners_numbers = max_number_of_learners\n",
    "    else:\n",
    "        learners_numbers = list(range(1, max_number_of_learners, 1))\n",
    "    xgb_test_err = []\n",
    "    xgb_train_err = []\n",
    "    features_importance = None\n",
    "    #for i in range(1, max_number_of_learners + 1,10):\n",
    "\n",
    "    if isinstance(max_number_of_learners, Iterable):\n",
    "        learners_numbers = max_number_of_learners\n",
    "    for i in learners_numbers:\n",
    "        print(\"Learner number: \", i)\n",
    "        #create xgb model\n",
    "        #print(\"number of base learners: \", i)\n",
    "        xgb_settings['n_estimators'] = i - 1\n",
    "        xgb_model = XGBRegressor(**xgb_settings)\n",
    "\n",
    "        xgb_model.fit(x_train, y_train)\n",
    "\n",
    "        # test the model\n",
    "        y_test_pred = xgb_model.predict(x_test)\n",
    "        y_train_pred = xgb_model.predict(x_train)\n",
    "\n",
    "        if Settings.final_evaluation_error == \"MSE\":\n",
    "            model_test_error = metrics.mean_squared_error(y_test, y_test_pred)\n",
    "            model_train_error = metrics.mean_squared_error(y_train, y_train_pred)\n",
    "        elif Settings.final_evaluation_error == \"absolute_mean_error\":\n",
    "            model_test_error = metrics.mean_absolute_error(y_test, y_test_pred)\n",
    "            model_train_error = metrics.mean_absolute_error(y_train, y_train_pred)\n",
    "        else:\n",
    "            raise ValueError(\"measure error not found\")\n",
    "        xgb_test_err.append(model_test_error)\n",
    "        xgb_train_err.append(model_train_error)\n",
    "        features_importance = xgb_model.feature_importances_\n",
    "\n",
    "    # plot feature importance\n",
    "    print(\"max path length: \", max_path_length)\n",
    "    plot_importance(xgb_model)\n",
    "    print(\"max path length: \", max_path_length)\n",
    "    plt.show()\n",
    "    print(\"max path length: \", max_path_length)\n",
    "    xgb_test_err = np.array(xgb_test_err)\n",
    "    return xgb_test_err, xgb_train_err, features_importance\n",
    "\n",
    "\n",
    "test_err_full_power_xgb_on_pattern_boosting_matrix, train_err_full_power_xgb_on_pattern_boosting_matrix, _ = get_XGB_error_and_variable_importance_t(\n",
    "    max_path_length=max_path_length[-1],\n",
    "    pattern_boosting=pattern_boosting,\n",
    "    max_number_of_learners=max_number_of_learners,\n",
    "    xgb_settings=xgb_settings)\n"
   ],
   "metadata": {
    "collapsed": false
   }
  },
  {
   "cell_type": "code",
   "execution_count": null,
   "outputs": [],
   "source": [
    "def plot_graphs_new(x, y, tittle: str, x_label: str = \"\", y_label: str = \"\", show=True, save=True, y2=None, x2=None,\n",
    "                    max_path_length=[]):\n",
    "    plt.style.use('ggplot')\n",
    "    if x2 == None:\n",
    "        x2 = x\n",
    "    fig, ax = plt.subplots()\n",
    "    ax.set_ylim(0.0001, 0.0015)\n",
    "    # Using set_dashes() to modify dashing of an existing line\n",
    "    if len(x) > Settings.tail:\n",
    "        ax.plot(x[-Settings.tail:], y[-Settings.tail:], label='')\n",
    "    else:\n",
    "        ax.plot(x, y, label='Pattern Boosting')\n",
    "        for i, max_length in enumerate(max_path_length):\n",
    "            ax.plot(x2, y2[i], label='XGB_' + str(max_length))\n",
    "\n",
    "    ax.legend()\n",
    "    ax.set_title(tittle)\n",
    "    ax.set_ylabel(y_label)\n",
    "    ax.set_xlabel(x_label)\n",
    "\n",
    "    # plt.grid()\n",
    "\n",
    "    # plot only integers on the x-axis\n",
    "    ax.xaxis.set_major_locator(MaxNLocator(integer=True))\n",
    "    saving_location = data_reader.get_save_location(tittle, '.png')\n",
    "\n",
    "    if save is True:\n",
    "        plt.savefig(saving_location)\n",
    "    if show is True:\n",
    "        plt.show()\n",
    "\n",
    "    return fig, ax"
   ],
   "metadata": {
    "collapsed": false
   }
  },
  {
   "cell_type": "code",
   "execution_count": null,
   "outputs": [],
   "source": [
    "list(max_number_of_learners)\n",
    "fig, ax = plot_graphs_new(x=max_number_of_learners,\n",
    "                          y=np.array(pattern_boosting.test_error)[list(max_number_of_learners)],\n",
    "                          tittle=\"Test error\", x_label=\"number of learners\",\n",
    "                          y_label=\"MSE\", show=True, save=False, y2=xgb_test_err, x2=None,\n",
    "                          max_path_length=max_path_length)\n",
    "\n"
   ],
   "metadata": {
    "collapsed": false
   }
  },
  {
   "cell_type": "code",
   "execution_count": null,
   "outputs": [],
   "source": [
    "#add full power xgb error and xgb on pattern boosting matrix error to the plot\n",
    "\n",
    "ax.plot(max_number_of_learners, test_err_full_power_xgb, label='XGB depth ' + str(xgb_settings['max_depth']))\n",
    "ax.plot(max_number_of_learners, test_err_full_power_xgb_on_pattern_boosting_matrix, label=\"XGB on pb matrix\")\n",
    "\n",
    "plt.show()"
   ],
   "metadata": {
    "collapsed": false
   }
  },
  {
   "cell_type": "code",
   "execution_count": null,
   "outputs": [],
   "source": [],
   "metadata": {
    "collapsed": false
   }
  },
  {
   "cell_type": "code",
   "execution_count": null,
   "outputs": [],
   "source": [
    "analysis = AnalysisPatternBoosting()\n",
    "directory = data_reader.get_save_location(folder_relative_path=\"results\")\n",
    "directory = '/Users/popcorn/PycharmProjects/pattern_boosting/results/Xgb_step_500_max_path_length_100_5_k_selection_graphs'\n",
    "\n",
    "pattern_boosting = data_reader.load_data(directory=directory, filename=\"pattern_boosting\")\n",
    "\n",
    "\n",
    "\n",
    "directory='/Users/popcorn/PycharmProjects/pattern_boosting/results/Xgb_step_8_max_path_length_100_5_k_selection_graphs/wrapped_boosting/'\n",
    "\n",
    "pattern_boosting = data_reader.load_data(directory=directory, filename=\"wrapper_pattern_boosting\")\n"
   ],
   "metadata": {
    "collapsed": false
   }
  },
  {
   "cell_type": "markdown",
   "source": [
    "Use pattern boosting matrix\n",
    "check training error\n"
   ],
   "metadata": {
    "collapsed": false
   }
  },
  {
   "cell_type": "code",
   "execution_count": null,
   "outputs": [],
   "source": [
    "def plot_graphs_new_temp(x, y, tittle: str, x_label: str = \"\", y_label: str = \"\", show=True, save=True, y2=None,\n",
    "                         x2=None,\n",
    "                         max_path_length=[]):\n",
    "    plt.style.use('ggplot')\n",
    "    if x2 == None:\n",
    "        x2 = x\n",
    "    fig, ax = plt.subplots()\n",
    "    ax.set_ylim(0.0005, 0.0015)\n",
    "    # Using set_dashes() to modify dashing of an existing line\n",
    "    if len(x) > Settings.tail:\n",
    "        ax.plot(x[-Settings.tail:], y[-Settings.tail:], label='')\n",
    "    else:\n",
    "        ax.plot(x, y, label='Pattern Boosting')\n",
    "        for i, max_length in enumerate(max_path_length):\n",
    "            ax.plot(x2, y2[i], label='XGB_' + str(max_length))\n",
    "\n",
    "    ax.plot(max_number_of_learners, test_err_full_power_xgb, label='XGB depth ' + str(xgb_settings['max_depth']))\n",
    "    ax.plot(max_number_of_learners, test_err_full_power_xgb_on_pattern_boosting_matrix, label=\"XGB on pb matrix\")\n",
    "\n",
    "    # plt.grid()\n",
    "    ax.legend()\n",
    "    ax.set_title(tittle)\n",
    "    ax.set_ylabel(y_label)\n",
    "    ax.set_xlabel(x_label)\n",
    "\n",
    "    # plot only integers on the x-axis\n",
    "    ax.xaxis.set_major_locator(MaxNLocator(integer=True))\n",
    "    saving_location = data_reader.get_save_location(tittle, '.png')\n",
    "\n",
    "    if save is True:\n",
    "        plt.savefig(saving_location)\n",
    "    if show is True:\n",
    "        plt.show()\n",
    "\n",
    "    return fig, ax\n"
   ],
   "metadata": {
    "collapsed": false
   }
  },
  {
   "cell_type": "code",
   "execution_count": null,
   "outputs": [],
   "source": [
    "fig, ax = plot_graphs_new_temp(x=max_number_of_learners,\n",
    "                               y=np.array(pattern_boosting.test_error)[max_number_of_learners],\n",
    "                               tittle=\"Test error\", x_label=\"number of learners\",\n",
    "                               y_label=\"MSE\", show=True, save=False, y2=xgb_test_err, x2=None,\n",
    "                               max_path_length=max_path_length)"
   ],
   "metadata": {
    "collapsed": false
   }
  },
  {
   "cell_type": "code",
   "execution_count": null,
   "outputs": [],
   "source": [
    "def plot_graphs_new_temp_2(x, y, tittle: str, x_label: str = \"\", y_label: str = \"\", show=True, save=True, y2=None,\n",
    "                           x2=None,\n",
    "                           max_path_length=[]):\n",
    "    plt.style.use('ggplot')\n",
    "    if x2 == None:\n",
    "        x2 = x\n",
    "    fig, ax = plt.subplots()\n",
    "    ax.set_ylim(0.00065, 0.00125)\n",
    "    # Using set_dashes() to modify dashing of an existing line\n",
    "    if len(x) > Settings.tail:\n",
    "        ax.plot(x[-Settings.tail:], y[-Settings.tail:], label='')\n",
    "    else:\n",
    "        ax.plot(x, y, label='Pattern Boosting')\n",
    "        for i, max_length in enumerate(max_path_length):\n",
    "            ax.plot(x2, y2[i], label='XGB_' + str(max_length))\n",
    "\n",
    "    ax.plot(max_number_of_learners, train_err_full_power_xgb, label='XGB depth ' + str(xgb_settings['max_depth']))\n",
    "    ax.plot(max_number_of_learners, train_err_full_power_xgb_on_pattern_boosting_matrix, label=\"XGB on pb matrix\")\n",
    "\n",
    "    # plt.grid()\n",
    "    ax.legend()\n",
    "    ax.set_title(tittle)\n",
    "    ax.set_ylabel(y_label)\n",
    "    ax.set_xlabel(x_label)\n",
    "\n",
    "    # plot only integers on the x-axis\n",
    "    ax.xaxis.set_major_locator(MaxNLocator(integer=True))\n",
    "    saving_location = data_reader.get_save_location(tittle, '.png')\n",
    "\n",
    "    if save is True:\n",
    "        plt.savefig(saving_location)\n",
    "    if show is True:\n",
    "        plt.show()\n",
    "\n",
    "    return fig, ax"
   ],
   "metadata": {
    "collapsed": false
   }
  },
  {
   "cell_type": "code",
   "execution_count": null,
   "outputs": [],
   "source": [
    "fig, ax = plot_graphs_new_temp(x=max_number_of_learners,\n",
    "                               y=np.array(pattern_boosting.train_error)[max_number_of_learners],\n",
    "                               tittle=\"Train error\", x_label=\"number of learners\",\n",
    "                               y_label=\"MSE\", show=True, save=False, y2=xgb_train_err, x2=None,\n",
    "                               max_path_length=max_path_length)"
   ],
   "metadata": {
    "collapsed": false
   }
  },
  {
   "cell_type": "code",
   "execution_count": null,
   "outputs": [],
   "source": [],
   "metadata": {
    "collapsed": false
   }
  },
  {
   "cell_type": "code",
   "execution_count": 18,
   "outputs": [],
   "source": [],
   "metadata": {
    "collapsed": false
   }
  }
 ],
 "metadata": {
  "kernelspec": {
   "display_name": "Python 3",
   "language": "python",
   "name": "python3"
  },
  "language_info": {
   "codemirror_mode": {
    "name": "ipython",
    "version": 2
   },
   "file_extension": ".py",
   "mimetype": "text/x-python",
   "name": "python",
   "nbconvert_exporter": "python",
   "pygments_lexer": "ipython2",
   "version": "2.7.6"
  }
 },
 "nbformat": 4,
 "nbformat_minor": 0
}
