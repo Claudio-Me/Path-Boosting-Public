{
 "cells": [
  {
   "cell_type": "code",
   "execution_count": null,
   "metadata": {
    "collapsed": true
   },
   "outputs": [],
   "source": [
    "import functools\n",
    "from sklearn import metrics\n",
    "import numpy as np\n",
    "from classes.boosting_matrix import BoostingMatrix\n",
    "from classes.dataset import Dataset\n",
    "from settings import Settings\n",
    "import matplotlib.pyplot as plt\n",
    "from matplotlib.ticker import MaxNLocator\n",
    "from collections import Counter\n",
    "from classes.pattern_boosting import PatternBoosting\n",
    "from settings import Settings\n",
    "from classes.enumeration.estimation_type import EstimationType\n",
    "from data.synthetic_dataset import SyntheticDataset\n",
    "import pandas as pd\n",
    "import copy\n",
    "import matplotlib.pyplot as plt\n",
    "from classes.analysis_patternboosting import AnalysisPatternBoosting\n",
    "from data.load_dataset import load_dataset\n",
    "from data import data_reader\n",
    "from xgboost import XGBRegressor\n",
    "from sklearn.model_selection import train_test_split\n",
    "from multiprocessing.dummy import Pool as ThreadPool\n",
    "\n",
    "import copy\n",
    "from data import data_reader\n",
    "from classes.wrapper_pattern_boosting import WrapperPatternBoosting\n",
    "from jupiter_notebook_functions import *\n",
    "from classes.wrapper_pattern_boosting import WrapperPatternBoosting"
   ]
  },
  {
   "cell_type": "markdown",
   "source": [
    "Settings:"
   ],
   "metadata": {
    "collapsed": false
   }
  },
  {
   "cell_type": "code",
   "execution_count": null,
   "outputs": [],
   "source": [
    "dataset_name=\"5_k_selection_graphs\"\n",
    "\n",
    "# the model will be searched in the directory results/jupiter\n",
    "pattern_boosting_model_name=\"frequency_matrix\"\n"
   ],
   "metadata": {
    "collapsed": false
   }
  },
  {
   "cell_type": "markdown",
   "source": [
    "\n",
    "\n"
   ],
   "metadata": {
    "collapsed": false
   }
  },
  {
   "cell_type": "code",
   "execution_count": null,
   "outputs": [],
   "source": [
    "# Load the dataset\n",
    "\n",
    "directory = data_reader.get_save_location(folder_relative_path=\"results/jupiter\", create_unique_subfolder=True)\n",
    "pattern_boosting = data_reader.load_data(directory=directory, filename=\"frequency_matrix\")\n",
    "\n",
    "dataset = load_dataset(dataset_name)\n",
    "\n",
    "\n",
    "# loading the model \"pattern_boosting_model_name\" and getting the frequency matrix\n",
    "\n",
    "directory = data_reader.get_save_location(folder_relative_path=\"results/jupiter\", create_unique_subfolder=True)\n",
    "pattern_boosting = data_reader.load_data(directory=directory, filename=pattern_boosting_model_name)\n",
    "frequency_matrix = pd.DataFrame(pattern_boosting.boosting_matrix.get_matrix(),\n",
    "                                columns=pattern_boosting.boosting_matrix.get_header())\n",
    "\n",
    "\n",
    "# get the frequency matrix\n",
    "\n",
    "if isinstance(pattern_boosting, PatternBoosting):\n",
    "    frequency_matrix = pattern_boosting.create_boosting_matrix_for(dataset)\n",
    "\n",
    "elif isinstance(pattern_boosting, WrapperPatternBoosting):\n",
    "    frequency_matrix = pattern_boosting.create_ordered_boosting_matrix(dataset)\n",
    "\n",
    "\n"
   ],
   "metadata": {
    "collapsed": false
   }
  }
 ],
 "metadata": {
  "kernelspec": {
   "display_name": "Python 3",
   "language": "python",
   "name": "python3"
  },
  "language_info": {
   "codemirror_mode": {
    "name": "ipython",
    "version": 2
   },
   "file_extension": ".py",
   "mimetype": "text/x-python",
   "name": "python",
   "nbconvert_exporter": "python",
   "pygments_lexer": "ipython2",
   "version": "2.7.6"
  }
 },
 "nbformat": 4,
 "nbformat_minor": 0
}
