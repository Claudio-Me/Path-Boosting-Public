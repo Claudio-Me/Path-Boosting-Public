{
 "cells": [
  {
   "cell_type": "code",
   "execution_count": 1,
   "outputs": [],
   "source": [
    "import functools\n",
    "import warnings\n",
    "\n",
    "from sklearn import metrics\n",
    "import numpy as np\n",
    "from classes.boosting_matrix import BoostingMatrix\n",
    "from classes.dataset import Dataset\n",
    "from settings import Settings\n",
    "import matplotlib.pyplot as plt\n",
    "from matplotlib.ticker import MaxNLocator\n",
    "from collections import Counter\n",
    "from classes.pattern_boosting import PatternBoosting\n",
    "from settings import Settings\n",
    "from classes.enumeration.estimation_type import EstimationType\n",
    "from data.synthetic_dataset import SyntheticDataset\n",
    "import pandas as pd\n",
    "import copy\n",
    "from classes.analysis_patternboosting import AnalysisPatternBoosting\n",
    "from data.load_dataset import load_dataset\n",
    "from data import data_reader\n",
    "from xgboost import XGBRegressor\n",
    "from sklearn.model_selection import train_test_split\n",
    "from multiprocessing.dummy import Pool as ThreadPool\n",
    "\n",
    "import copy\n",
    "from data import data_reader\n",
    "from classes.wrapper_pattern_boosting import WrapperPatternBoosting\n",
    "from jupiter_notebook_functions import *\n",
    "import warnings\n",
    "from typing import List, Tuple, Optional\n",
    "from classes.analysis_wrapper_pattern_boosting import AnalysisWrapperPatternBoosting\n"
   ],
   "metadata": {
    "collapsed": false
   }
  },
  {
   "cell_type": "code",
   "execution_count": 2,
   "outputs": [
    {
     "name": "stdout",
     "output_type": "stream",
     "text": [
      "Done\n"
     ]
    }
   ],
   "source": [
    "# Settings\n",
    "\n",
    "dataset_name = \"5_k_selection_graphs\"\n",
    "\n",
    "# the model will be searched in the directory results/jupiter\n",
    "pattern_boosting_model_name = \"frequency_matrix\"\n",
    "\n",
    "max_n_learners = 200\n",
    "number_of_learners = [1, 2, 5, 7, 10, 15, 20, 25, 35] + list(range(50, max_n_learners + 1, 50))\n",
    "\n",
    "max_path_length = [2, 3, 4, 5, 15]\n",
    "\n",
    "max_depth = 1\n",
    "\n",
    "errors_test_list = []\n",
    "errors_train_list = []\n",
    "n_learners_list = []\n",
    "labels_list = []\n",
    "\n",
    "print(\"Done\")"
   ],
   "metadata": {
    "collapsed": false
   }
  },
  {
   "cell_type": "code",
   "execution_count": null,
   "outputs": [
    {
     "name": "stdout",
     "output_type": "stream",
     "text": [
      "run classical XGB with depth 1 using different number of learners\n"
     ]
    },
    {
     "name": "stderr",
     "output_type": "stream",
     "text": [
      "/var/folders/qc/wxh4slj57lz9vzyv3nfj5_gr0000gn/T/ipykernel_3501/1645002627.py:10: UserWarning: Old number of learners not found\n",
      "  warnings.warn(\"Old number of learners not found\")\n"
     ]
    },
    {
     "name": "stdout",
     "output_type": "stream",
     "text": [
      "Creating 5k dataset\n",
      "reading dataset\n",
      "5000\n",
      "dataset loaded\n",
      "get the frequency matrix\n",
      "98563\n",
      "run classical XGB with depth 1 using different number of learners\n",
      "Learner number: Learner number:  1\n",
      "Learner number:  1\n",
      " 1\n",
      "Learner number:  1\n",
      "Learner number:  1\n",
      "Learner number:  2\n",
      "Learner number:  2\n",
      "Learner number:  2\n",
      "Learner number:  5\n",
      "Learner number:  2\n",
      "Learner number:  5\n",
      "Learner number:  7\n",
      "Learner number:  5\n",
      "Learner number:  7\n",
      "Learner number:  5\n",
      "Learner number:  10\n",
      "Learner number:  7\n",
      "Learner number:  10\n",
      "Learner number:  15\n",
      "Learner number:  7\n",
      "Learner number:  10\n",
      "Learner number:  15\n",
      "Learner number:  20\n",
      "Learner number:  15\n",
      "Learner number:  10\n",
      "Learner number:  20\n",
      "Learner number:  25\n",
      "Learner number:  25\n",
      "Learner number:  20\n",
      "Learner number:  35\n",
      "Learner number:  15\n",
      "Learner number:  50\n",
      "Learner number:  35\n",
      "Learner number:  25\n",
      "Learner number:  20\n",
      "Learner number:  2\n",
      "Learner number:  35\n",
      "Learner number:  100\n",
      "Learner number:  50\n",
      "Learner number:  25\n",
      "Learner number:  35\n",
      "Learner number:  50\n",
      "Learner number:  100\n",
      "Learner number:  150\n",
      "Learner number:  50\n",
      "Learner number:  100\n",
      "Learner number:  150\n",
      "Learner number:  5\n",
      "Learner number:  200\n",
      "Learner number:  100\n",
      "Learner number:  150\n",
      "Learner number:  200\n",
      "max path length:  2\n",
      "max path length:  2\n",
      "max path length:  2\n",
      "Learner number:  7\n",
      "Learner number:  150\n",
      "Learner number:  200\n",
      "max path length:  3\n",
      "max path length:  3\n",
      "max path length:  3\n",
      "Learner number:  10\n",
      "Learner number:  200\n",
      "max path length:  4\n",
      "max path length:  4\n",
      "max path length:  4\n",
      "Learner number:  15\n",
      "max path length:  5\n",
      "max path length:  5\n",
      "max path length:  5\n"
     ]
    }
   ],
   "source": [
    "# run classical XGB with depth 1 using different number of learners, parallelize over the max length paths\n",
    "print(\"run classical XGB with depth 1 using different number of learners\")\n",
    "\n",
    "# Load the dataset with the matrix with all possible paths\n",
    "\n",
    "try:\n",
    "    old_n_learners_limited_path_xgb = data_reader.load_data(directory=\"results/jupiter/plot\",\n",
    "                                                            filename=\"old_n_learners_limited_path_xgb\")\n",
    "except:\n",
    "    warnings.warn(\"Old number of learners not found\")\n",
    "    old_n_learners_limited_path_xgb = 0\n",
    "if max_n_learners >= old_n_learners_limited_path_xgb:\n",
    "\n",
    "    directory = data_reader.get_save_location(folder_relative_path=\"results/jupiter\")\n",
    "    pattern_boosting = data_reader.load_data(directory=directory, filename=\"pattern_boosting_all_paths\")\n",
    "\n",
    "    dataset = load_dataset(dataset_name)\n",
    "\n",
    "    # get the frequency matrix\n",
    "    print(\"get the frequency matrix\")\n",
    "    '''\n",
    "    if isinstance(pattern_boosting, PatternBoosting):\n",
    "        frequency_matrix = pattern_boosting.create_boosting_matrix_for(dataset)\n",
    "\n",
    "    elif isinstance(pattern_boosting, WrapperPatternBoosting):\n",
    "        frequency_matrix = pattern_boosting.create_ordered_boosting_matrix(dataset)\n",
    "    '''\n",
    "    frequency_matrix = pd.DataFrame(pattern_boosting.boosting_matrix.get_matrix(),\n",
    "                                    columns=pattern_boosting.boosting_matrix.get_header())\n",
    "\n",
    "    print(len(pattern_boosting.boosting_matrix.get_header()))\n",
    "\n",
    "    # run classical XGB with depth 1 using different number of learners, parallelize over the max length paths\n",
    "    print(\"run classical XGB with depth 1 using different number of learners\")\n",
    "    pool = ThreadPool(min(10, len(max_path_length)))\n",
    "\n",
    "    xgb_err = pool.map(\n",
    "        functools.partial(get_XGB_error_and_variable_importance,\n",
    "                          frequency_matrix=copy.deepcopy(frequency_matrix),\n",
    "                          labels=dataset.labels,\n",
    "                          max_number_of_learners=number_of_learners),\n",
    "        max_path_length)\n",
    "\n",
    "    xgb_test_err, xgb_train_err, variable_importance = zip(*xgb_err)\n",
    "\n",
    "    # saving the errors\n",
    "\n",
    "    data_reader.save_data(max_n_learners, filename=\"old_n_learners_limited_path_xgb\", directory=\"results/jupiter/plot\",\n",
    "                          create_unique_subfolder=False)\n",
    "    data_reader.save_data(xgb_test_err, filename=\"test_err_limited_path_xgb\",\n",
    "                          directory=\"results/jupiter/plot\",\n",
    "                          create_unique_subfolder=False)\n",
    "    data_reader.save_data(xgb_train_err, filename=\"train_err_limited_path_xgb\",\n",
    "                          directory=\"results/jupiter/plot\",\n",
    "                          create_unique_subfolder=False)\n",
    "\n",
    "    labels_list_limited_path_xgb = []\n",
    "    for length in max_path_length:\n",
    "        n_learners_list.append(number_of_learners)\n",
    "        labels_list_limited_path_xgb.append('XGB path ' + str(length))\n",
    "\n",
    "    data_reader.save_data(n_learners_list, filename=\"number_of_learners_limited_path_xgb\",\n",
    "                          directory=\"results/jupiter/plot\",\n",
    "                          create_unique_subfolder=False)\n",
    "\n",
    "    data_reader.save_data(labels_list_limited_path_xgb, filename=\"labels_list_limited_path_xgb\",\n",
    "                          directory=\"results/jupiter/plot\",\n",
    "                          create_unique_subfolder=False)\n"
   ],
   "metadata": {
    "collapsed": false,
    "pycharm": {
     "is_executing": true
    }
   }
  },
  {
   "cell_type": "code",
   "execution_count": null,
   "outputs": [],
   "source": [
    "# Run xgb full power and on the frequency matrix with all possible paths\n",
    "print(\"Run xgb full power and on the frequency matrix with all possible paths\")\n",
    "\n",
    "try:\n",
    "    old_n_learners_full_xgb_full_matrix = data_reader.load_data(directory=\"results/jupiter/plot\",\n",
    "                                                                filename=\"old_n_learners_full_xgb_full_matrix\")\n",
    "except:\n",
    "    warnings.warn(\"Old number of learners not found\")\n",
    "    old_n_learners_full_xgb_full_matrix = 0\n",
    "if max_n_learners >= old_n_learners_full_xgb_full_matrix:\n",
    "    directory = data_reader.get_save_location(folder_relative_path=\"results/jupiter\")\n",
    "    pattern_boosting = data_reader.load_data(directory=directory, filename=\"pattern_boosting_all_paths\")\n",
    "\n",
    "    dataset = load_dataset(dataset_name)\n",
    "\n",
    "    frequency_matrix = pd.DataFrame(pattern_boosting.boosting_matrix.get_matrix(),\n",
    "                                    columns=pattern_boosting.boosting_matrix.get_header())\n",
    "\n",
    "    xgb_settings = Settings.xgb_model_parameters\n",
    "    xgb_settings['max_depth'] = max_depth\n",
    "\n",
    "    xgb_settings = Settings.xgb_model_parameters\n",
    "    xgb_settings['max_depth'] = max_depth\n",
    "    test_err_full_power_xgb, train_err_full_power_xgb, _ = get_XGB_error_and_variable_importance(\n",
    "        max_path_length=200,\n",
    "        frequency_matrix=copy.deepcopy(frequency_matrix),\n",
    "        labels=dataset.labels,\n",
    "        max_number_of_learners=number_of_learners,\n",
    "        xgb_settings=xgb_settings)\n",
    "\n",
    "    # saving the errors\n",
    "\n",
    "    data_reader.save_data(max_n_learners, filename=\"old_n_learners_full_xgb_full_matrix\",\n",
    "                          directory=\"results/jupiter/plot\",\n",
    "                          create_unique_subfolder=False)\n",
    "    data_reader.save_data(test_err_full_power_xgb, filename=\"test_err_full_power_xgb_full_matrix\",\n",
    "                          directory=\"results/jupiter/plot\",\n",
    "                          create_unique_subfolder=False)\n",
    "    data_reader.save_data(train_err_full_power_xgb, filename=\"train_err_full_power_xgb_full_matrix\",\n",
    "                          directory=\"results/jupiter/plot\",\n",
    "                          create_unique_subfolder=False)\n",
    "    data_reader.save_data(number_of_learners, filename=\"number_of_learners_full_xgb_full_matrix\",\n",
    "                          directory=\"results/jupiter/plot\",\n",
    "                          create_unique_subfolder=False)\n",
    "    data_reader.save_data('XGB depth ' + str(max_depth) + ' on all paths', filename=\"labels_list_full_xgb_full_matrix\",\n",
    "                          directory=\"results/jupiter/plot\",\n",
    "                          create_unique_subfolder=False)\n",
    "\n"
   ],
   "metadata": {
    "collapsed": false,
    "pycharm": {
     "is_executing": true
    }
   }
  },
  {
   "cell_type": "code",
   "execution_count": null,
   "outputs": [],
   "source": [
    "# Run xgb full power and on the frequency matrix given by pattern boosting\n",
    "print(\"Run xgb full power and on the frequency matrix given by pattern boosting\")\n",
    "\n",
    "try:\n",
    "    old_n_learners_full_xgb_pb_matrix = data_reader.load_data(directory=\"results/jupiter/plot\",\n",
    "                                                              filename=\"old_n_learners_full_xgb_pb_matrix\")\n",
    "except:\n",
    "    warnings.warn(\"Old number of learners not found\")\n",
    "    old_n_learners_full_xgb_pb_matrix = 0\n",
    "\n",
    "if max_n_learners >= old_n_learners_full_xgb_pb_matrix:\n",
    "    # load pattern boosting model, to use the headers found by the algorithm\n",
    "    directory = data_reader.get_save_location(folder_relative_path=\"results/jupiter\")\n",
    "    pattern_boosting = data_reader.load_data(directory=directory, filename=\"pattern_boosting_300_steps\")\n",
    "    print(pattern_boosting.test_dataset)\n",
    "\n",
    "    pd_pattern_boosting_matrix = pd.DataFrame(pattern_boosting.boosting_matrix.get_matrix(),\n",
    "                                              columns=pattern_boosting.boosting_matrix.get_header())\n",
    "\n",
    "    xgb_settings = Settings.xgb_model_parameters\n",
    "    xgb_settings['max_depth'] = max_depth\n",
    "    test_err_full_power_xgb_on_pattern_boosting_matrix, train_err_full_power_xgb_on_pattern_boosting_matrix, _ = get_XGB_error_and_variable_importance_t(\n",
    "        max_path_length=200,\n",
    "        pattern_boosting=pattern_boosting,\n",
    "        max_number_of_learners=number_of_learners,\n",
    "        frequency_matrix=pd_pattern_boosting_matrix,\n",
    "        xgb_settings=xgb_settings)\n",
    "\n",
    "    # saving the errors\n",
    "\n",
    "    data_reader.save_data(max_n_learners, filename=\"old_n_learners_full_xgb_pb_matrix\",\n",
    "                          directory=\"results/jupiter/plot\",\n",
    "                          create_unique_subfolder=False)\n",
    "    data_reader.save_data(test_err_full_power_xgb_on_pattern_boosting_matrix, filename=\"test_err_full_xgb_pb_matrix\",\n",
    "                          directory=\"results/jupiter/plot\",\n",
    "                          create_unique_subfolder=False)\n",
    "    data_reader.save_data(train_err_full_power_xgb_on_pattern_boosting_matrix, filename=\"train_err_full_xgb_pb_matrix\",\n",
    "                          directory=\"results/jupiter/plot\",\n",
    "                          create_unique_subfolder=False)\n",
    "    data_reader.save_data(number_of_learners, filename=\"number_of_learners_full_xgb_pb_matrix\",\n",
    "                          directory=\"results/jupiter/plot\",\n",
    "                          create_unique_subfolder=False)\n",
    "    data_reader.save_data('full XGB pattern boosting matrix', filename=\"labels_list_full_xgb_pb_matrix\",\n",
    "                          directory=\"results/jupiter/plot\",\n",
    "                          create_unique_subfolder=False)\n",
    "\n"
   ],
   "metadata": {
    "collapsed": false,
    "pycharm": {
     "is_executing": true
    }
   }
  },
  {
   "cell_type": "code",
   "execution_count": null,
   "outputs": [],
   "source": [
    "#load all errors and merge into one\n",
    "if True:\n",
    "    errors_test_list = []\n",
    "    errors_train_list = []\n",
    "    n_learners_list = []\n",
    "    labels_list = []\n",
    "\n",
    "    # classic XGB with depth 1 using different number of learners, parallelize over the max length paths\n",
    "\n",
    "    directory = data_reader.get_save_location(folder_relative_path=\"results/jupiter/plot\",\n",
    "                                              unique_subfolder=False)\n",
    "\n",
    "    test_err_limited_path_xgb = data_reader.load_data(directory=directory, filename=\"test_err_limited_path_xgb\")\n",
    "    train_err_limited_path_xgb = data_reader.load_data(directory=directory, filename=\"train_err_limited_path_xgb\")\n",
    "    n_learners_list_limited_path_xgb = data_reader.load_data(directory=directory,\n",
    "                                                             filename=\"number_of_learners_limited_path_xgb\")\n",
    "    label_limited_path_xgb = data_reader.load_data(directory=directory, filename=\"labels_list_limited_path_xgb\")\n",
    "\n",
    "    errors_test_list += test_err_limited_path_xgb\n",
    "    errors_train_list += train_err_limited_path_xgb\n",
    "    n_learners_list += n_learners_list_limited_path_xgb\n",
    "    labels_list += label_limited_path_xgb\n",
    "\n",
    "    #-------------------------------------------\n",
    "\n",
    "    # full xgb full matrix\n",
    "    directory = data_reader.get_save_location(folder_relative_path=\"results/jupiter/plot\",\n",
    "                                              unique_subfolder=False)\n",
    "    test_err_full_power_xgb = data_reader.load_data(directory=directory, filename=\"test_err_full_power_xgb_full_matrix\")\n",
    "    train_err_full_power_xgb = data_reader.load_data(directory=directory,\n",
    "                                                     filename=\"train_err_full_power_xgb_full_matrix\")\n",
    "    n_learners_list_full_power_xgb = data_reader.load_data(directory=directory,\n",
    "                                                           filename=\"number_of_learners_full_xgb_full_matrix\")\n",
    "    label_full_power_xgb = data_reader.load_data(directory=directory, filename=\"labels_list_full_xgb_full_matrix\")\n",
    "\n",
    "    errors_test_list.append(test_err_full_power_xgb)\n",
    "    errors_train_list.append(train_err_full_power_xgb)\n",
    "    n_learners_list.append(n_learners_list_full_power_xgb)\n",
    "    labels_list.append(label_full_power_xgb)\n",
    "\n",
    "    #-------------------------------------------\n",
    "\n",
    "    # full xgb pattern boosting matrix\n",
    "    directory = data_reader.get_save_location(folder_relative_path=\"results/jupiter/plot\",\n",
    "                                              unique_subfolder=False)\n",
    "    test_err_full_power_xgb_pb_matrix = data_reader.load_data(directory=directory,\n",
    "                                                              filename=\"test_err_full_xgb_pb_matrix\")\n",
    "    train_err_full_power_xgb_pb_matrix = data_reader.load_data(directory=directory,\n",
    "                                                               filename=\"train_err_full_xgb_pb_matrix\")\n",
    "    n_learners_list_full_power_xgb_pb_matrix = data_reader.load_data(directory=directory,\n",
    "                                                                     filename=\"number_of_learners_full_xgb_pb_matrix\")\n",
    "    label_full_power_xgb_pb_matrix = data_reader.load_data(directory=directory,\n",
    "                                                           filename=\"labels_list_full_xgb_pb_matrix\")\n",
    "\n",
    "    errors_test_list.append(test_err_full_power_xgb_pb_matrix)\n",
    "    errors_train_list.append(train_err_full_power_xgb_pb_matrix)\n",
    "    n_learners_list.append(n_learners_list_full_power_xgb_pb_matrix)\n",
    "    labels_list.append(label_full_power_xgb_pb_matrix)\n",
    "\n",
    "    # pattern boosting\n",
    "\n",
    "    directory = '/Users/popcorn/PycharmProjects/pattern_boosting/results/Xgb_step_200_max_path_length_100_5_k_selection_graphs/'\n",
    "\n",
    "    pattern_boosting = data_reader.load_data(directory=directory, filename=\"pattern_boosting\")\n",
    "\n",
    "    errors_test_list.append(pattern_boosting.test_error)\n",
    "    errors_train_list.append(pattern_boosting.train_error)\n",
    "    n_learners_list.append(range(1, len(pattern_boosting.test_error) + 1))\n",
    "    labels_list.append('pattern boosting')\n",
    "    #--------------------------------------------------------------------------------------------------------------------------------------------------------------\n",
    "\n",
    "    directory = '/Users/popcorn/PycharmProjects/pattern_boosting/results/Xgb_step_200_max_path_length_100_5_k_selection_graphs/wrapped_boosting/'\n",
    "\n",
    "    wrapper_pattern_boosting = data_reader.load_data(directory=directory, filename=\"wrapper_pattern_boosting\")\n",
    "\n",
    "    errors_test_list.append(wrapper_pattern_boosting.test_error)\n",
    "    errors_train_list.append(wrapper_pattern_boosting.train_error)\n",
    "    n_learners_list.append(range(1, len(wrapper_pattern_boosting.test_error) + 1))\n",
    "    labels_list.append('wrapper pattern boosting')\n",
    "\n",
    "    # saving the errors\n",
    "\n",
    "    data_reader.save_data(max_n_learners, filename=\"old_n_learners\", directory=\"results/jupiter/plot\",\n",
    "                          create_unique_subfolder=False)\n",
    "    data_reader.save_data(errors_test_list, filename=\"errors_test_list\", directory=\"results/jupiter/plot\",\n",
    "                          create_unique_subfolder=False)\n",
    "    data_reader.save_data(errors_train_list, filename=\"errors_train_list\", directory=\"results/jupiter/plot\",\n",
    "                          create_unique_subfolder=False)\n",
    "    data_reader.save_data(n_learners_list, filename=\"n_learners_list\", directory=\"results/jupiter/plot\",\n",
    "                          create_unique_subfolder=False)\n",
    "    data_reader.save_data(labels_list, filename=\"labels_list\", directory=\"results/jupiter/plot\",\n",
    "                          create_unique_subfolder=False)\n",
    "\n",
    "#----------------------------------------------------------------------------------------------------------------------------------------------------------------------------------\n",
    "print(\"Done\")"
   ],
   "metadata": {
    "collapsed": false,
    "pycharm": {
     "is_executing": true
    }
   }
  },
  {
   "cell_type": "code",
   "execution_count": null,
   "outputs": [],
   "source": [
    "# load the errors\n",
    "directory = data_reader.get_save_location(folder_relative_path=\"results/jupiter/plot\", unique_subfolder=False)\n",
    "errors_test_list = data_reader.load_data(directory=directory, filename=\"errors_test_list\")\n",
    "errors_train_list = data_reader.load_data(directory=directory, filename=\"errors_train_list\")\n",
    "n_learners_list = data_reader.load_data(directory=directory, filename=\"n_learners_list\")\n",
    "labels_list = data_reader.load_data(directory=directory, filename=\"labels_list\")\n",
    "\n",
    "\n",
    "#----------------------------------------------------------------------------------------------------------------------------------------------------------------------------------\n",
    "\n",
    "\n",
    "def plot_error_evolution(error_list: List[List[float]],\n",
    "                         number_of_learners_list: List[List[float]],\n",
    "                         labels: List[str],\n",
    "                         title: str = 'Evolution of the Error',\n",
    "                         y_lim: Optional[Tuple[float, float]] = None,\n",
    "                         x_lim: Optional[Tuple[float, float]] = None,\n",
    "                         legend_fontsize: str = 'small') -> None:\n",
    "    \"\"\"\n",
    "    Plots the evolution of different error series based on corresponding number of learners and error values.\n",
    "\n",
    "    :param error_list: A list of lists, where each sublist contains the error values for a different model or condition.\n",
    "    :type error_list: list[list[float]]\n",
    "    :param number_of_learners_list: A list of lists of numbers representing learners that correspond to the error values.\n",
    "    :type number_of_learners_list: list[list[float]]\n",
    "    :param labels: A list of strings that serve as labels for the plots. Must be the same length as error_list.\n",
    "    :type labels: list[str]\n",
    "    :param title: The title of the plot. Defaults to 'Evolution of the Error' if not provided.\n",
    "    :type title: str\n",
    "    :param y_lim: An optional tuple with two float values to set the limits of the y-axis. Defaults to None if not provided.\n",
    "    :type y_lim: tuple[float, float], optional\n",
    "    :param x_lim: An optional tuple with two float values to set the limits of the x-axis. Defaults to None if not provided.\n",
    "    :type x_lim: tuple[float, float], optional\n",
    "    :param legend_fontsize: The font size of the legend text. Defaults to 'small' if not provided.\n",
    "    :type legend_fontsize: str\n",
    "    :return: None\n",
    "    \"\"\"\n",
    "\n",
    "    if not error_list or not number_of_learners_list or not labels:\n",
    "        raise ValueError(\"error_list, number_of_learners_list, and labels must not be empty.\")\n",
    "\n",
    "    if len(error_list) != len(labels) or len(error_list) != len(number_of_learners_list):\n",
    "        raise ValueError(\n",
    "            f\"The number of labels ({len(labels)}) and the number of error/value series ({len(error_list)}) must match.\")\n",
    "\n",
    "    for error_values, number_of_learners_values in zip(error_list, number_of_learners_list):\n",
    "        if len(error_values) != len(number_of_learners_values):\n",
    "            raise ValueError(\"Each error sublist must be of the same length as its corresponding value sublist.\")\n",
    "\n",
    "    plt.style.use('ggplot')  # Set the plot style to 'ggplot'\n",
    "\n",
    "    fig, ax = plt.subplots()\n",
    "\n",
    "    for error, number_of_learners, label in zip(error_list, number_of_learners_list, labels):\n",
    "        ax.plot(number_of_learners, error, label=label)\n",
    "\n",
    "    ax.xaxis.set_major_locator(MaxNLocator(integer=True))  # Force x-axis to show only integer values\n",
    "\n",
    "    if x_lim is not None:\n",
    "        ax.set_xlim(x_lim)\n",
    "\n",
    "    if y_lim is not None:\n",
    "        ax.set_ylim(y_lim)\n",
    "\n",
    "    ax.set_xlabel('Number of Learners')\n",
    "    ax.set_ylabel('Error')\n",
    "    ax.set_title(title)\n",
    "    ax.legend()\n",
    "    ax.legend(fontsize=legend_fontsize)  # Set the legend font size\n",
    "    ax.grid(True)\n",
    "\n",
    "    plt.show()\n",
    "\n",
    "\n",
    "y_lim = (0.00, 0.0015)\n",
    "x_lim = (1, 200)\n",
    "\n",
    "plot_error_evolution(errors_test_list, n_learners_list, labels_list, title=\"Test Error\", y_lim=y_lim,\n",
    "                     x_lim=x_lim)\n",
    "plot_error_evolution(errors_train_list, n_learners_list, labels_list, title=\"Train Error\", y_lim=y_lim,\n",
    "                     x_lim=x_lim)\n",
    "\n",
    "#----------------------------------------------------------------------------------------------------------------------------------------------------------------------------------\n",
    "\n"
   ],
   "metadata": {
    "collapsed": false,
    "pycharm": {
     "is_executing": true
    }
   }
  },
  {
   "cell_type": "code",
   "execution_count": null,
   "outputs": [],
   "source": [
    "if True:\n",
    "    # load the errors\n",
    "    directory = data_reader.get_save_location(folder_relative_path=\"results/jupiter/plot/learning_rate_03\",\n",
    "                                              unique_subfolder=False)\n",
    "    errors_test_list = data_reader.load_data(directory=directory, filename=\"errors_test_list\")\n",
    "    errors_train_list = data_reader.load_data(directory=directory, filename=\"errors_train_list\")\n",
    "    n_learners_list = data_reader.load_data(directory=directory, filename=\"n_learners_list\")\n",
    "    labels_list = data_reader.load_data(directory=directory, filename=\"labels_list\")\n",
    "# learning rate 0.3\n",
    "y_lim = (0.00, 0.0015)\n",
    "x_lim = (1, 200)\n",
    "\n",
    "plot_error_evolution(errors_test_list, n_learners_list, labels_list, title=\"Test Error\", y_lim=y_lim,\n",
    "                     x_lim=x_lim)\n",
    "plot_error_evolution(errors_train_list, n_learners_list, labels_list, title=\"Train Error\", y_lim=y_lim,\n",
    "                     x_lim=x_lim)\n"
   ],
   "metadata": {
    "collapsed": false,
    "pycharm": {
     "is_executing": true
    }
   }
  },
  {
   "cell_type": "code",
   "execution_count": null,
   "outputs": [],
   "source": [
    "\n",
    "\n",
    "\n",
    "\n",
    "\n",
    "\n",
    "\n",
    "\n",
    "\n",
    "\n",
    "\n",
    "\n",
    "\n",
    "\n",
    "\n",
    "\n",
    "\n",
    "\n",
    "\n",
    "\n",
    "\n",
    "\n",
    "\n",
    "\n",
    "\n",
    "\n",
    "\n",
    "\n",
    "\n",
    "\n",
    "\n",
    "\n",
    "\n",
    "\n",
    "\n",
    "\n",
    "\n",
    "\n",
    "\n"
   ],
   "metadata": {
    "collapsed": false,
    "pycharm": {
     "is_executing": true
    }
   }
  },
  {
   "cell_type": "code",
   "execution_count": null,
   "outputs": [],
   "source": [
    "#analyze wrapper boosting\n",
    "directory = data_reader.get_save_location(folder_relative_path=\"results\",\n",
    "                                          unique_subfolder=True)\n",
    "\n",
    "wrapper_pattern_boosting = data_reader.load_data(directory=directory, filename=\"wrapper_pattern_boosting\")\n",
    "synthetic_dataset = data_reader.load_data(directory=directory, filename=\"synthetic_dataset\")\n",
    "\n",
    "analysis = AnalysisWrapperPatternBoosting(pattern_boosting)\n",
    "analysis.plot_all_analysis(n=40, synthetic_dataset=synthetic_dataset)\n"
   ],
   "metadata": {
    "collapsed": false,
    "pycharm": {
     "is_executing": true
    }
   }
  },
  {
   "cell_type": "code",
   "execution_count": null,
   "outputs": [],
   "source": [
    "# plot wrapper boosting analysis on syn...\n",
    "if True:\n",
    "    directory = data_reader.get_save_location(folder_relative_path=\"results\",\n",
    "                                              unique_subfolder=True)\n",
    "\n",
    "    wrapper_pattern_boosting = data_reader.load_data(directory=directory, filename=\"wrapper_pattern_boosting\")\n",
    "    synthetic_dataset = data_reader.load_data(directory=directory, filename=\"synthetic_dataset\")\n",
    "\n",
    "    analysis = AnalysisWrapperPatternBoosting(wrapper_pattern_boosting)\n",
    "\n"
   ],
   "metadata": {
    "collapsed": false,
    "pycharm": {
     "is_executing": true
    }
   }
  },
  {
   "cell_type": "code",
   "execution_count": null,
   "outputs": [],
   "source": [
    "# launch pattern boosting on syintetic dataset and see how many paths are found by number of iterations\n",
    "if True:\n",
    "\n",
    "    old_show_analysis = Settings.show_analysis\n",
    "    old_maximum_number_of_steps = Settings.maximum_number_of_steps\n",
    "    old_generate_new_dataset = Settings.generate_new_dataset\n",
    "    old_wrapper_boosting=Settings.wrapper_boosting\n",
    "    old_dataset_name=Settings.dataset_name\n",
    "\n",
    "    Settings.show_analysis = True\n",
    "    Settings.generate_new_dataset = True\n",
    "    Settings.wrapper_boosting=True\n",
    "    Settings.dataset_name=\"5k_synthetic_dataset\"\n",
    "\n",
    "    dataset = load_dataset(dataset_name='5k_synthetic_dataset')\n",
    "\n",
    "    directory = data_reader.get_save_location(folder_relative_path=\"results\",\n",
    "                                              unique_subfolder=True)\n",
    "\n",
    "    synthetic_dataset = data_reader.load_data(directory=directory, filename=\"synthetic_dataset\")\n",
    "\n",
    "    train_dataset, test_dataset = data_reader.split_training_and_test(dataset, Settings.test_size,\n",
    "                                                                      random_split_seed=Settings.random_split_test_dataset_seed)\n",
    "    tested_values=range(200,210,50)\n",
    "    boosting_matrix_header=[[]]*len(tested_values)\n",
    "    selected_paths=[[]]*len(tested_values)\n",
    "    total_number_of_selsected_paths=[int]*len(tested_values)\n",
    "    for i,value in enumerate(tested_values):\n",
    "        print(value)\n",
    "        print('-----------------------------------------------------------------')\n",
    "        Settings.maximum_number_of_steps = value\n",
    "        settings=Settings()\n",
    "        wrapper_pattern_boosting = WrapperPatternBoosting(settings=settings)\n",
    "        wrapper_pattern_boosting.train(train_dataset, test_dataset)\n",
    "        boosting_matrix_header[i] = wrapper_pattern_boosting.get_boosting_matrix_header()\n",
    "        selected_paths[i] = wrapper_pattern_boosting.get_selected_paths()\n",
    "        total_number_of_selsected_paths[i]=len(selected_paths[i])\n",
    "        del wrapper_pattern_boosting\n",
    "\n",
    "    Settings.show_analysis = old_show_analysis\n",
    "    Settings.maximum_number_of_steps = old_maximum_number_of_steps\n",
    "    Settings.generate_new_dataset = old_generate_new_dataset\n",
    "    Settings.wrapper_boosting = old_wrapper_boosting\n",
    "    Settings.dataset_name=old_dataset_name\n",
    "\n",
    "\n",
    "    n_spotted_paths=[int]*len(tested_values)\n",
    "    n_header_paths=[int]*len(tested_values)\n",
    "    missed_paths=[]\n",
    "\n",
    "    for i,value in enumerate(tested_values):\n",
    "\n",
    "        counter_spotted=0\n",
    "        counter_header=0\n",
    "        for path in synthetic_dataset.target_paths:\n",
    "            if path in selected_paths[i]:\n",
    "                counter_spotted +=1\n",
    "            elif value == tested_values[-1]:\n",
    "                missed_paths.append(path)\n",
    "            if path in boosting_matrix_header[i]:\n",
    "                counter_header+=1\n",
    "        n_spotted_paths[i]=counter_spotted\n",
    "        n_header_paths[i]=counter_header\n",
    "\n",
    "\n",
    "\n"
   ],
   "metadata": {
    "collapsed": false,
    "pycharm": {
     "is_executing": true
    }
   }
  },
  {
   "cell_type": "code",
   "execution_count": 3,
   "outputs": [],
   "source": [
    "\n",
    "def plot_found_paths(tested_values, correctly_found_paths, total_number_of_paths_explored):\n",
    "    # Set up the plot\n",
    "    plt.figure(figsize=(8,6))\n",
    "    plt.title(\"Paths Explored vs Correct Paths\")\n",
    "    plt.xlabel(\"Number of Iterations/Selected Paths\")\n",
    "    plt.ylabel(\"Number of Target Paths found\")\n",
    "    # Plot the two functions\n",
    "    plt.plot(tested_values, correctly_found_paths, label=\"Correct Paths\")\n",
    "    #plt.plot(tested_values, total_number_of_paths_explored, label=\"Explored Paths\")\n",
    "\n",
    "    # Add a legend to the plot\n",
    "    plt.legend()\n",
    "\n",
    "    # Show the plot\n",
    "    plt.show()\n"
   ],
   "metadata": {
    "collapsed": false
   }
  },
  {
   "cell_type": "code",
   "execution_count": 4,
   "outputs": [],
   "source": [
    "tested_values=list(range(2,70,7))+ list(range(80,110,8))+list(tested_values)\n",
    "total_number_of_selsected_paths=[54, 167, 280, 392, 495, 592, 667, 737, 822, 895, 1048, 1108, 1174, 1232]+total_number_of_selsected_paths\n",
    "n_spotted_paths=[46, 76, 80, 85, 90, 93, 98, 101, 102, 104, 104, 104, 106, 106]+n_spotted_paths"
   ],
   "metadata": {
    "collapsed": false
   }
  },
  {
   "cell_type": "code",
   "execution_count": 5,
   "outputs": [
    {
     "data": {
      "text/plain": "<Figure size 800x600 with 1 Axes>",
      "image/png": "[encoded data removed]"
     },
     "metadata": {},
     "output_type": "display_data"
    }
   ],
   "source": [
    "plot_found_paths(tested_values,n_spotted_paths,total_number_of_selsected_paths)"
   ],
   "metadata": {
    "collapsed": false
   }
  },
  {
   "cell_type": "code",
   "execution_count": 6,
   "outputs": [
    {
     "ename": "ValueError",
     "evalue": "x and y must have same first dimension, but have shapes (15,) and (1,)",
     "output_type": "error",
     "traceback": [
      "\u001B[0;31m---------------------------------------------------------------------------\u001B[0m",
      "\u001B[0;31mValueError\u001B[0m                                Traceback (most recent call last)",
      "Cell \u001B[0;32mIn[6], line 1\u001B[0m\n\u001B[0;32m----> 1\u001B[0m \u001B[43mplot_found_paths\u001B[49m\u001B[43m(\u001B[49m\u001B[43mtested_values\u001B[49m\u001B[43m,\u001B[49m\u001B[43mn_header_paths\u001B[49m\u001B[43m,\u001B[49m\u001B[43mtotal_number_of_selsected_paths\u001B[49m\u001B[43m)\u001B[49m\n",
      "Cell \u001B[0;32mIn[3], line 8\u001B[0m, in \u001B[0;36mplot_found_paths\u001B[0;34m(tested_values, correctly_found_paths, total_number_of_paths_explored)\u001B[0m\n\u001B[1;32m      6\u001B[0m plt\u001B[38;5;241m.\u001B[39mylabel(\u001B[38;5;124m\"\u001B[39m\u001B[38;5;124mNumber of Target Paths found\u001B[39m\u001B[38;5;124m\"\u001B[39m)\n\u001B[1;32m      7\u001B[0m \u001B[38;5;66;03m# Plot the two functions\u001B[39;00m\n\u001B[0;32m----> 8\u001B[0m \u001B[43mplt\u001B[49m\u001B[38;5;241;43m.\u001B[39;49m\u001B[43mplot\u001B[49m\u001B[43m(\u001B[49m\u001B[43mtested_values\u001B[49m\u001B[43m,\u001B[49m\u001B[43m \u001B[49m\u001B[43mcorrectly_found_paths\u001B[49m\u001B[43m,\u001B[49m\u001B[43m \u001B[49m\u001B[43mlabel\u001B[49m\u001B[38;5;241;43m=\u001B[39;49m\u001B[38;5;124;43m\"\u001B[39;49m\u001B[38;5;124;43mCorrect Paths\u001B[39;49m\u001B[38;5;124;43m\"\u001B[39;49m\u001B[43m)\u001B[49m\n\u001B[1;32m      9\u001B[0m \u001B[38;5;66;03m#plt.plot(tested_values, total_number_of_paths_explored, label=\"Explored Paths\")\u001B[39;00m\n\u001B[1;32m     10\u001B[0m \n\u001B[1;32m     11\u001B[0m \u001B[38;5;66;03m# Add a legend to the plot\u001B[39;00m\n\u001B[1;32m     12\u001B[0m plt\u001B[38;5;241m.\u001B[39mlegend()\n",
      "File \u001B[0;32m~/PycharmProjects/pattern_boosting/venv/lib/python3.11/site-packages/matplotlib/pyplot.py:2740\u001B[0m, in \u001B[0;36mplot\u001B[0;34m(scalex, scaley, data, *args, **kwargs)\u001B[0m\n\u001B[1;32m   2738\u001B[0m \u001B[38;5;129m@_copy_docstring_and_deprecators\u001B[39m(Axes\u001B[38;5;241m.\u001B[39mplot)\n\u001B[1;32m   2739\u001B[0m \u001B[38;5;28;01mdef\u001B[39;00m \u001B[38;5;21mplot\u001B[39m(\u001B[38;5;241m*\u001B[39margs, scalex\u001B[38;5;241m=\u001B[39m\u001B[38;5;28;01mTrue\u001B[39;00m, scaley\u001B[38;5;241m=\u001B[39m\u001B[38;5;28;01mTrue\u001B[39;00m, data\u001B[38;5;241m=\u001B[39m\u001B[38;5;28;01mNone\u001B[39;00m, \u001B[38;5;241m*\u001B[39m\u001B[38;5;241m*\u001B[39mkwargs):\n\u001B[0;32m-> 2740\u001B[0m     \u001B[38;5;28;01mreturn\u001B[39;00m \u001B[43mgca\u001B[49m\u001B[43m(\u001B[49m\u001B[43m)\u001B[49m\u001B[38;5;241;43m.\u001B[39;49m\u001B[43mplot\u001B[49m\u001B[43m(\u001B[49m\n\u001B[1;32m   2741\u001B[0m \u001B[43m        \u001B[49m\u001B[38;5;241;43m*\u001B[39;49m\u001B[43margs\u001B[49m\u001B[43m,\u001B[49m\u001B[43m \u001B[49m\u001B[43mscalex\u001B[49m\u001B[38;5;241;43m=\u001B[39;49m\u001B[43mscalex\u001B[49m\u001B[43m,\u001B[49m\u001B[43m \u001B[49m\u001B[43mscaley\u001B[49m\u001B[38;5;241;43m=\u001B[39;49m\u001B[43mscaley\u001B[49m\u001B[43m,\u001B[49m\n\u001B[1;32m   2742\u001B[0m \u001B[43m        \u001B[49m\u001B[38;5;241;43m*\u001B[39;49m\u001B[38;5;241;43m*\u001B[39;49m\u001B[43m(\u001B[49m\u001B[43m{\u001B[49m\u001B[38;5;124;43m\"\u001B[39;49m\u001B[38;5;124;43mdata\u001B[39;49m\u001B[38;5;124;43m\"\u001B[39;49m\u001B[43m:\u001B[49m\u001B[43m \u001B[49m\u001B[43mdata\u001B[49m\u001B[43m}\u001B[49m\u001B[43m \u001B[49m\u001B[38;5;28;43;01mif\u001B[39;49;00m\u001B[43m \u001B[49m\u001B[43mdata\u001B[49m\u001B[43m \u001B[49m\u001B[38;5;129;43;01mis\u001B[39;49;00m\u001B[43m \u001B[49m\u001B[38;5;129;43;01mnot\u001B[39;49;00m\u001B[43m \u001B[49m\u001B[38;5;28;43;01mNone\u001B[39;49;00m\u001B[43m \u001B[49m\u001B[38;5;28;43;01melse\u001B[39;49;00m\u001B[43m \u001B[49m\u001B[43m{\u001B[49m\u001B[43m}\u001B[49m\u001B[43m)\u001B[49m\u001B[43m,\u001B[49m\u001B[43m \u001B[49m\u001B[38;5;241;43m*\u001B[39;49m\u001B[38;5;241;43m*\u001B[39;49m\u001B[43mkwargs\u001B[49m\u001B[43m)\u001B[49m\n",
      "File \u001B[0;32m~/PycharmProjects/pattern_boosting/venv/lib/python3.11/site-packages/matplotlib/axes/_axes.py:1662\u001B[0m, in \u001B[0;36mAxes.plot\u001B[0;34m(self, scalex, scaley, data, *args, **kwargs)\u001B[0m\n\u001B[1;32m   1419\u001B[0m \u001B[38;5;250m\u001B[39m\u001B[38;5;124;03m\"\"\"\u001B[39;00m\n\u001B[1;32m   1420\u001B[0m \u001B[38;5;124;03mPlot y versus x as lines and/or markers.\u001B[39;00m\n\u001B[1;32m   1421\u001B[0m \n\u001B[0;32m   (...)\u001B[0m\n\u001B[1;32m   1659\u001B[0m \u001B[38;5;124;03m(``'green'``) or hex strings (``'#008000'``).\u001B[39;00m\n\u001B[1;32m   1660\u001B[0m \u001B[38;5;124;03m\"\"\"\u001B[39;00m\n\u001B[1;32m   1661\u001B[0m kwargs \u001B[38;5;241m=\u001B[39m cbook\u001B[38;5;241m.\u001B[39mnormalize_kwargs(kwargs, mlines\u001B[38;5;241m.\u001B[39mLine2D)\n\u001B[0;32m-> 1662\u001B[0m lines \u001B[38;5;241m=\u001B[39m [\u001B[38;5;241m*\u001B[39m\u001B[38;5;28mself\u001B[39m\u001B[38;5;241m.\u001B[39m_get_lines(\u001B[38;5;241m*\u001B[39margs, data\u001B[38;5;241m=\u001B[39mdata, \u001B[38;5;241m*\u001B[39m\u001B[38;5;241m*\u001B[39mkwargs)]\n\u001B[1;32m   1663\u001B[0m \u001B[38;5;28;01mfor\u001B[39;00m line \u001B[38;5;129;01min\u001B[39;00m lines:\n\u001B[1;32m   1664\u001B[0m     \u001B[38;5;28mself\u001B[39m\u001B[38;5;241m.\u001B[39madd_line(line)\n",
      "File \u001B[0;32m~/PycharmProjects/pattern_boosting/venv/lib/python3.11/site-packages/matplotlib/axes/_base.py:311\u001B[0m, in \u001B[0;36m_process_plot_var_args.__call__\u001B[0;34m(self, data, *args, **kwargs)\u001B[0m\n\u001B[1;32m    309\u001B[0m     this \u001B[38;5;241m+\u001B[39m\u001B[38;5;241m=\u001B[39m args[\u001B[38;5;241m0\u001B[39m],\n\u001B[1;32m    310\u001B[0m     args \u001B[38;5;241m=\u001B[39m args[\u001B[38;5;241m1\u001B[39m:]\n\u001B[0;32m--> 311\u001B[0m \u001B[38;5;28;01myield from\u001B[39;00m \u001B[38;5;28;43mself\u001B[39;49m\u001B[38;5;241;43m.\u001B[39;49m\u001B[43m_plot_args\u001B[49m\u001B[43m(\u001B[49m\n\u001B[1;32m    312\u001B[0m \u001B[43m    \u001B[49m\u001B[43mthis\u001B[49m\u001B[43m,\u001B[49m\u001B[43m \u001B[49m\u001B[43mkwargs\u001B[49m\u001B[43m,\u001B[49m\u001B[43m \u001B[49m\u001B[43mambiguous_fmt_datakey\u001B[49m\u001B[38;5;241;43m=\u001B[39;49m\u001B[43mambiguous_fmt_datakey\u001B[49m\u001B[43m)\u001B[49m\n",
      "File \u001B[0;32m~/PycharmProjects/pattern_boosting/venv/lib/python3.11/site-packages/matplotlib/axes/_base.py:504\u001B[0m, in \u001B[0;36m_process_plot_var_args._plot_args\u001B[0;34m(self, tup, kwargs, return_kwargs, ambiguous_fmt_datakey)\u001B[0m\n\u001B[1;32m    501\u001B[0m     \u001B[38;5;28mself\u001B[39m\u001B[38;5;241m.\u001B[39maxes\u001B[38;5;241m.\u001B[39myaxis\u001B[38;5;241m.\u001B[39mupdate_units(y)\n\u001B[1;32m    503\u001B[0m \u001B[38;5;28;01mif\u001B[39;00m x\u001B[38;5;241m.\u001B[39mshape[\u001B[38;5;241m0\u001B[39m] \u001B[38;5;241m!=\u001B[39m y\u001B[38;5;241m.\u001B[39mshape[\u001B[38;5;241m0\u001B[39m]:\n\u001B[0;32m--> 504\u001B[0m     \u001B[38;5;28;01mraise\u001B[39;00m \u001B[38;5;167;01mValueError\u001B[39;00m(\u001B[38;5;124mf\u001B[39m\u001B[38;5;124m\"\u001B[39m\u001B[38;5;124mx and y must have same first dimension, but \u001B[39m\u001B[38;5;124m\"\u001B[39m\n\u001B[1;32m    505\u001B[0m                      \u001B[38;5;124mf\u001B[39m\u001B[38;5;124m\"\u001B[39m\u001B[38;5;124mhave shapes \u001B[39m\u001B[38;5;132;01m{\u001B[39;00mx\u001B[38;5;241m.\u001B[39mshape\u001B[38;5;132;01m}\u001B[39;00m\u001B[38;5;124m and \u001B[39m\u001B[38;5;132;01m{\u001B[39;00my\u001B[38;5;241m.\u001B[39mshape\u001B[38;5;132;01m}\u001B[39;00m\u001B[38;5;124m\"\u001B[39m)\n\u001B[1;32m    506\u001B[0m \u001B[38;5;28;01mif\u001B[39;00m x\u001B[38;5;241m.\u001B[39mndim \u001B[38;5;241m>\u001B[39m \u001B[38;5;241m2\u001B[39m \u001B[38;5;129;01mor\u001B[39;00m y\u001B[38;5;241m.\u001B[39mndim \u001B[38;5;241m>\u001B[39m \u001B[38;5;241m2\u001B[39m:\n\u001B[1;32m    507\u001B[0m     \u001B[38;5;28;01mraise\u001B[39;00m \u001B[38;5;167;01mValueError\u001B[39;00m(\u001B[38;5;124mf\u001B[39m\u001B[38;5;124m\"\u001B[39m\u001B[38;5;124mx and y can be no greater than 2D, but have \u001B[39m\u001B[38;5;124m\"\u001B[39m\n\u001B[1;32m    508\u001B[0m                      \u001B[38;5;124mf\u001B[39m\u001B[38;5;124m\"\u001B[39m\u001B[38;5;124mshapes \u001B[39m\u001B[38;5;132;01m{\u001B[39;00mx\u001B[38;5;241m.\u001B[39mshape\u001B[38;5;132;01m}\u001B[39;00m\u001B[38;5;124m and \u001B[39m\u001B[38;5;132;01m{\u001B[39;00my\u001B[38;5;241m.\u001B[39mshape\u001B[38;5;132;01m}\u001B[39;00m\u001B[38;5;124m\"\u001B[39m)\n",
      "\u001B[0;31mValueError\u001B[0m: x and y must have same first dimension, but have shapes (15,) and (1,)"
     ]
    },
    {
     "data": {
      "text/plain": "<Figure size 800x600 with 1 Axes>",
      "image/png": "[encoded data removed]"
     },
     "metadata": {},
     "output_type": "display_data"
    }
   ],
   "source": [
    "plot_found_paths(tested_values,n_header_paths,total_number_of_selsected_paths)"
   ],
   "metadata": {
    "collapsed": false
   }
  },
  {
   "cell_type": "code",
   "execution_count": null,
   "outputs": [],
   "source": [
    "n_header_paths"
   ],
   "metadata": {
    "collapsed": false,
    "pycharm": {
     "is_executing": true
    }
   }
  },
  {
   "cell_type": "code",
   "execution_count": null,
   "outputs": [],
   "source": [
    "n_spotted_paths"
   ],
   "metadata": {
    "collapsed": false,
    "pycharm": {
     "is_executing": true
    }
   }
  },
  {
   "cell_type": "code",
   "execution_count": null,
   "outputs": [],
   "source": [
    "total_number_of_selsected_paths\n"
   ],
   "metadata": {
    "collapsed": false,
    "pycharm": {
     "is_executing": true
    }
   }
  },
  {
   "cell_type": "code",
   "execution_count": null,
   "outputs": [],
   "source": [
    "# create frequency matrix of synthetic dataset\n",
    "matrix = synthetic_dataset.number_paths_counting\n",
    "header = synthetic_dataset.target_paths\n",
    "boosting_dataframe = pd.DataFrame(matrix,columns=header)\n"
   ],
   "metadata": {
    "collapsed": false,
    "pycharm": {
     "is_executing": true
    }
   }
  },
  {
   "cell_type": "code",
   "execution_count": 10,
   "outputs": [],
   "source": [],
   "metadata": {
    "collapsed": false
   }
  },
  {
   "cell_type": "code",
   "execution_count": 11,
   "outputs": [
    {
     "name": "stdout",
     "output_type": "stream",
     "text": [
      "/Users/popcorn/PycharmProjects/pattern_boosting/results/Xgb_step_100_max_path_length_100_5_k_selection_graphs/wrapped_boosting/\n"
     ]
    }
   ],
   "source": [
    "directory = data_reader.get_save_location(folder_relative_path=\"results\",\n",
    "                                              unique_subfolder=True)\n",
    "print(directory)\n",
    "synthetic_dataset = data_reader.load_data(directory=directory, filename=\"synthetic_dataset\")"
   ],
   "metadata": {
    "collapsed": false
   }
  },
  {
   "cell_type": "code",
   "execution_count": 12,
   "outputs": [],
   "source": [
    "import pandas as pd\n",
    "\n",
    "def highest_corr(df, col_names):\n",
    "    highest_correlations = {}\n",
    "    corr_matrix = df.corr()\n",
    "    for col_name in col_names:\n",
    "        if col_name in corr_matrix.columns:\n",
    "            corr_values = corr_matrix[col_name]\n",
    "            corr_values = corr_values[corr_values.index != col_name] # exclude self-correlation\n",
    "            absolute_corr_values = corr_values.abs() # consider absolute correlation\n",
    "            highest_corr_coef = max(absolute_corr_values)\n",
    "            highest_correlations[col_name] = highest_corr_coef\n",
    "    return highest_correlations\n"
   ],
   "metadata": {
    "collapsed": false
   }
  },
  {
   "cell_type": "code",
   "execution_count": 13,
   "outputs": [
    {
     "data": {
      "text/plain": "{(80, 7, 7): 0.44937048253671213,\n (39, 6, 5): 1.0,\n (39, 6, 7): 1.0,\n (28, 7, 6, 6, 17): 0.36536110254418724,\n (28, 7, 16): 0.5772347644832214,\n (28, 7, 6, 15): 0.10348882385695721,\n (21, 7, 14): 0.3157148766181184,\n (28, 7, 7, 7): 0.2493995196156926,\n (28, 7, 7, 16): 0.5772347644832214,\n (57, 7, 7): 0.4421713289349044,\n (28, 7, 6, 6, 9): 0.7253731164947935,\n (28, 7, 6, 16): 0.35104192820468694,\n (28, 17): 0.28603128371792974,\n (28, 35): 0.28534888689620763,\n (28, 7, 6, 6, 6, 17): 0.25754670375141187}"
     },
     "execution_count": 13,
     "metadata": {},
     "output_type": "execute_result"
    }
   ],
   "source": [
    "highest_corr(boosting_dataframe,missed_paths)"
   ],
   "metadata": {
    "collapsed": false
   }
  },
  {
   "cell_type": "code",
   "execution_count": 14,
   "outputs": [
    {
     "data": {
      "text/plain": "15"
     },
     "execution_count": 14,
     "metadata": {},
     "output_type": "execute_result"
    }
   ],
   "source": [
    "len(missed_paths)"
   ],
   "metadata": {
    "collapsed": false
   }
  },
  {
   "cell_type": "code",
   "execution_count": 16,
   "outputs": [
    {
     "data": {
      "text/plain": "{}"
     },
     "execution_count": 16,
     "metadata": {},
     "output_type": "execute_result"
    }
   ],
   "source": [],
   "metadata": {
    "collapsed": false
   }
  },
  {
   "cell_type": "code",
   "execution_count": null,
   "outputs": [],
   "source": [
    "\n",
    "\n",
    "\n",
    "\n",
    "\n",
    "\n",
    "\n",
    "\n",
    "\n",
    "\n",
    "\n",
    "\n",
    "\n",
    "\n",
    "\n",
    "\n",
    "\n",
    "\n",
    "\n",
    "\n",
    "\n",
    "\n",
    "\n",
    "\n",
    "\n",
    "\n",
    "\n",
    "\n",
    "\n"
   ],
   "metadata": {
    "collapsed": false,
    "pycharm": {
     "is_executing": true
    }
   }
  },
  {
   "cell_type": "markdown",
   "source": [
    "Old version analysis not split"
   ],
   "metadata": {
    "collapsed": false
   }
  },
  {
   "cell_type": "code",
   "execution_count": null,
   "outputs": [],
   "source": [
    "# Load the dataset with the matrix with all possible paths\n",
    "\n",
    "directory = data_reader.get_save_location(folder_relative_path=\"results/jupiter\")\n",
    "pattern_boosting = data_reader.load_data(directory=directory, filename=\"pattern_boosting_all_paths\")\n",
    "\n",
    "dataset = load_dataset(dataset_name)\n",
    "\n",
    "# get the frequency matrix\n",
    "print(\"get the frequency matrix\")\n",
    "frequency_matrix = pd.DataFrame(pattern_boosting.boosting_matrix.get_matrix(),\n",
    "                                columns=pattern_boosting.boosting_matrix.get_header())\n",
    "\n",
    "print(len(pattern_boosting.boosting_matrix.get_header()))\n",
    "\n",
    "# run classical XGB with depth 1 using different number of learners, parallelize over the max length paths\n",
    "print(\"run classical XGB with depth 1 using different number of learners\")\n",
    "pool = ThreadPool(min(10, len(max_path_length)))\n",
    "\n",
    "xgb_err = pool.map(\n",
    "    functools.partial(get_XGB_error_and_variable_importance,\n",
    "                      frequency_matrix=copy.deepcopy(frequency_matrix),\n",
    "                      labels=dataset.labels,\n",
    "                      max_number_of_learners=number_of_learners),\n",
    "    max_path_length)\n",
    "\n",
    "xgb_test_err, xgb_train_err, variable_importance = zip(*xgb_err)\n",
    "\n",
    "#----------------------------------------------------------------------------------------------------------------------------------------------------------------------------------\n",
    "\n",
    "\n",
    "# Run xgb full power and on the frequency matrix with all possible paths\n",
    "print(\"Run xgb full power and on the frequency matrix with all possible paths\")\n",
    "xgb_settings = Settings.xgb_model_parameters\n",
    "xgb_settings['max_depth'] = max_depth\n",
    "test_err_full_power_xgb, train_err_full_power_xgb, _ = get_XGB_error_and_variable_importance(\n",
    "    max_path_length=200,\n",
    "    frequency_matrix=copy.deepcopy(frequency_matrix),\n",
    "    labels=dataset.labels,\n",
    "    max_number_of_learners=number_of_learners,\n",
    "    xgb_settings=xgb_settings)\n",
    "\n",
    "#----------------------------------------------------------------------------------------------------------------------------------------------------------------------------------\n",
    "\n",
    "\n",
    "# Run xgb full power and on the frequency matrix given by pattern boosting\n",
    "print(\"Run xgb full power and on the frequency matrix given by pattern boosting\")\n",
    "# load pattern boosting model, to use the headers found by the algorithm\n",
    "directory = data_reader.get_save_location(folder_relative_path=\"results/jupiter\")\n",
    "pattern_boosting = data_reader.load_data(directory=directory, filename=\"pattern_boosting_300_steps\")\n",
    "print(pattern_boosting.test_dataset)\n",
    "\n",
    "pd_pattern_boosting_matrix = pd.DataFrame(pattern_boosting.boosting_matrix.get_matrix(),\n",
    "                                          columns=pattern_boosting.boosting_matrix.get_header())\n",
    "\n",
    "test_err_full_power_xgb_on_pattern_boosting_matrix, train_err_full_power_xgb_on_pattern_boosting_matrix, _ = get_XGB_error_and_variable_importance_t(\n",
    "    max_path_length=200,\n",
    "    pattern_boosting=pattern_boosting,\n",
    "    max_number_of_learners=number_of_learners,\n",
    "    frequency_matrix=pd_pattern_boosting_matrix,\n",
    "    xgb_settings=xgb_settings)\n",
    "\n",
    "#----------------------------------------------------------------------------------------------------------------------------------------------------------------------------------\n",
    "\n",
    "\n",
    "#merging all the errors\n",
    "\n",
    "errors_test_list += xgb_test_err\n",
    "errors_train_list += xgb_train_err\n",
    "for length in max_path_length:\n",
    "    n_learners_list.append(number_of_learners)\n",
    "    labels_list.append('XGB path ' + str(length))\n",
    "\n",
    "errors_test_list.append(test_err_full_power_xgb)\n",
    "errors_train_list.append(train_err_full_power_xgb)\n",
    "n_learners_list.append(number_of_learners)\n",
    "labels_list.append('XGB depth ' + str(max_depth) + ' on all paths')\n",
    "\n",
    "errors_test_list.append(test_err_full_power_xgb_on_pattern_boosting_matrix)\n",
    "errors_train_list.append(train_err_full_power_xgb_on_pattern_boosting_matrix)\n",
    "n_learners_list.append(number_of_learners)\n",
    "labels_list.append('full XGB pattern boosting matrix')\n",
    "#----------------------------------------------------------------------------------------------------------------------------------------------------------------------------------\n",
    "\n",
    "\n",
    "errors_test_list.append(pattern_boosting.test_error)\n",
    "errors_train_list.append(pattern_boosting.train_error)\n",
    "n_learners_list.append(range(1, len(pattern_boosting.test_error) + 1))\n",
    "labels_list.append('pattern boosting')\n",
    "#----------------------------------------------------------------------------------------------------------------------------------------------------------------------------------\n",
    "\n",
    "\n",
    "directory = '/Users/popcorn/PycharmProjects/pattern_boosting/results/Xgb_step_300_max_path_length_100_5_k_selection_graphs/wrapped_boosting/'\n",
    "\n",
    "wrapper_pattern_boosting = data_reader.load_data(directory=directory, filename=\"wrapper_pattern_boosting\")\n",
    "\n",
    "errors_test_list.append(wrapper_pattern_boosting.test_error)\n",
    "errors_train_list.append(wrapper_pattern_boosting.train_error)\n",
    "n_learners_list.append(range(1, len(wrapper_pattern_boosting.test_error) + 1))\n",
    "labels_list.append('wrapper pattern boosting')\n",
    "\n",
    "#----------------------------------------------------------------------------------------------------------------------------------------------------------------------------------\n",
    "\n",
    "\n",
    "# saving the errors\n",
    "try:\n",
    "    old_n_learners = data_reader.load_data(directory=\"results/jupiter/plot\", filename=\"old_n_learners\")\n",
    "except:\n",
    "    warnings.warn(\"Old number of learners not found\")\n",
    "    old_n_learners = 0\n",
    "if max_n_learners >= old_n_learners:\n",
    "    data_reader.save_data(max_n_learners, filename=\"old_n_learners\", directory=\"results/jupiter/plot\",\n",
    "                          create_unique_subfolder=False)\n",
    "    data_reader.save_data(errors_test_list, filename=\"errors_test_list\", directory=\"results/jupiter/plot\",\n",
    "                          create_unique_subfolder=False)\n",
    "    data_reader.save_data(errors_train_list, filename=\"errors_train_list\", directory=\"results/jupiter/plot\",\n",
    "                          create_unique_subfolder=False)\n",
    "    data_reader.save_data(n_learners_list, filename=\"n_learners_list\", directory=\"results/jupiter/plot\",\n",
    "                          create_unique_subfolder=False)\n",
    "    data_reader.save_data(labels_list, filename=\"labels_list\", directory=\"results/jupiter/plot\",\n",
    "                          create_unique_subfolder=False)\n",
    "\n",
    "#----------------------------------------------------------------------------------------------------------------------------------------------------------------------------------\n",
    "\n",
    "\n"
   ],
   "metadata": {
    "collapsed": false
   }
  },
  {
   "cell_type": "code",
   "execution_count": 7,
   "outputs": [
    {
     "name": "stdout",
     "output_type": "stream",
     "text": [
      "Run xgb full power and on the frequency matrix given by pattern boosting\n",
      "Average value of label: 0.15584368\n",
      "Dataset dimension: 1000\n",
      "\n",
      "Setting up matrix ready\n",
      "Frequency matrix ready\n",
      "Learner number:  1\n",
      "Learner number:  2\n",
      "Learner number:  5\n",
      "Learner number:  7\n",
      "Learner number:  10\n",
      "Learner number:  15\n",
      "Learner number:  20\n",
      "Learner number:  25\n",
      "Learner number:  35\n",
      "Learner number:  50\n",
      "Learner number:  100\n",
      "Learner number:  150\n",
      "Learner number:  200\n",
      "max path length:  200\n",
      "max path length:  200\n",
      "max path length:  200\n"
     ]
    }
   ],
   "source": [
    "\n"
   ],
   "metadata": {
    "collapsed": false
   }
  },
  {
   "cell_type": "code",
   "execution_count": null,
   "outputs": [],
   "source": [
    "# load the errors\n",
    "directory = data_reader.get_save_location(folder_relative_path=\"results/jupiter/plot\", unique_subfolder=False)\n",
    "errors_test_list = data_reader.load_data(directory=directory, filename=\"errors_test_list\")\n",
    "errors_train_list = data_reader.load_data(directory=directory, filename=\"errors_train_list\")\n",
    "n_learners_list = data_reader.load_data(directory=directory, filename=\"n_learners_list\")\n",
    "labels_list = data_reader.load_data(directory=directory, filename=\"labels_list\")\n",
    "\n",
    "#----------------------------------------------------------------------------------------------------------------------------------------------------------------------------------\n",
    "\n",
    "\n",
    "import matplotlib.pyplot as plt\n",
    "from matplotlib.ticker import MaxNLocator\n",
    "from typing import List, Tuple, Optional\n",
    "\n",
    "import matplotlib.pyplot as plt\n",
    "from matplotlib.ticker import MaxNLocator\n",
    "from typing import List, Tuple, Optional\n",
    "\n",
    "\n",
    "def plot_error_evolution(error_list: List[List[float]],\n",
    "                         number_of_learners_list: List[List[float]],\n",
    "                         labels: List[str],\n",
    "                         title: str = 'Evolution of the Error',\n",
    "                         y_lim: Optional[Tuple[float, float]] = None,\n",
    "                         x_lim: Optional[Tuple[float, float]] = None,\n",
    "                         legend_fontsize: str = 'small') -> None:\n",
    "    \"\"\"\n",
    "    Plots the evolution of different error series based on corresponding number of learners and error values.\n",
    "\n",
    "    :param error_list: A list of lists, where each sublist contains the error values for a different model or condition.\n",
    "    :type error_list: list[list[float]]\n",
    "    :param number_of_learners_list: A list of lists of numbers representing learners that correspond to the error values.\n",
    "    :type number_of_learners_list: list[list[float]]\n",
    "    :param labels: A list of strings that serve as labels for the plots. Must be the same length as error_list.\n",
    "    :type labels: list[str]\n",
    "    :param title: The title of the plot. Defaults to 'Evolution of the Error' if not provided.\n",
    "    :type title: str\n",
    "    :param y_lim: An optional tuple with two float values to set the limits of the y-axis. Defaults to None if not provided.\n",
    "    :type y_lim: tuple[float, float], optional\n",
    "    :param x_lim: An optional tuple with two float values to set the limits of the x-axis. Defaults to None if not provided.\n",
    "    :type x_lim: tuple[float, float], optional\n",
    "    :param legend_fontsize: The font size of the legend text. Defaults to 'small' if not provided.\n",
    "    :type legend_fontsize: str\n",
    "    :return: None\n",
    "    \"\"\"\n",
    "\n",
    "    if not error_list or not number_of_learners_list or not labels:\n",
    "        raise ValueError(\"error_list, number_of_learners_list, and labels must not be empty.\")\n",
    "\n",
    "    if len(error_list) != len(labels) or len(error_list) != len(number_of_learners_list):\n",
    "        raise ValueError(\n",
    "            f\"The number of labels ({len(labels)}) and the number of error/value series ({len(error_list)}) must match.\")\n",
    "\n",
    "    for error_values, number_of_learners_values in zip(error_list, number_of_learners_list):\n",
    "        if len(error_values) != len(number_of_learners_values):\n",
    "            raise ValueError(\"Each error sublist must be of the same length as its corresponding value sublist.\")\n",
    "\n",
    "    plt.style.use('ggplot')  # Set the plot style to 'ggplot'\n",
    "\n",
    "    fig, ax = plt.subplots()\n",
    "\n",
    "    for error, number_of_learners, label in zip(error_list, number_of_learners_list, labels):\n",
    "        ax.plot(number_of_learners, error, label=label)\n",
    "\n",
    "    ax.xaxis.set_major_locator(MaxNLocator(integer=True))  # Force x-axis to show only integer values\n",
    "\n",
    "    if x_lim is not None:\n",
    "        ax.set_xlim(x_lim)\n",
    "\n",
    "    if y_lim is not None:\n",
    "        ax.set_ylim(y_lim)\n",
    "\n",
    "    ax.set_xlabel('Number of Learners')\n",
    "    ax.set_ylabel('Error')\n",
    "    ax.set_title(title)\n",
    "    ax.legend()\n",
    "    ax.legend(fontsize=legend_fontsize)  # Set the legend font size\n",
    "    ax.grid(True)\n",
    "\n",
    "    plt.show()\n",
    "\n",
    "\n",
    "y_lim = (0.00025, 0.0015)\n",
    "x_lim = (5, 300)\n",
    "\n",
    "plot_error_evolution(errors_test_list, n_learners_list, labels_list, title=\"Test Error\", y_lim=y_lim,\n",
    "                     x_lim=x_lim)\n",
    "plot_error_evolution(errors_train_list, n_learners_list, labels_list, title=\"Train Error\", y_lim=y_lim,\n",
    "                     x_lim=x_lim)\n",
    "\n",
    "#----------------------------------------------------------------------------------------------------------------------------------------------------------------------------------\n",
    "\n"
   ],
   "metadata": {
    "collapsed": false
   }
  },
  {
   "cell_type": "code",
   "execution_count": null,
   "outputs": [],
   "source": [],
   "metadata": {
    "collapsed": false,
    "pycharm": {
     "is_executing": true
    }
   }
  },
  {
   "cell_type": "code",
   "execution_count": null,
   "outputs": [],
   "source": [],
   "metadata": {
    "collapsed": false
   }
  },
  {
   "cell_type": "code",
   "execution_count": 5,
   "outputs": [
    {
     "name": "stdout",
     "output_type": "stream",
     "text": [
      "run classical XGB with depth 1 using different number of learners\n",
      "get the frequency matrix\n",
      "98563\n",
      "run classical XGB with depth 1 using different number of learners\n",
      "Learner number:  1\n",
      "Learner number: Learner number:  1\n",
      " 1\n",
      "Learner number:  1\n",
      "Learner number:  1\n",
      "Learner number:  2\n",
      "Learner number:  2\n",
      "Learner number:  2\n",
      "Learner number:  5\n",
      "Learner number:  5\n",
      "Learner number:  2\n",
      "Learner number:  7\n",
      "Learner number:  5\n",
      "Learner number:  7\n",
      "Learner number:  10\n",
      "Learner number:  7\n",
      "Learner number:  5\n",
      "Learner number:  10\n",
      "Learner number:  15\n",
      "Learner number:  10\n",
      "Learner number:  7\n",
      "Learner number:  15\n",
      "Learner number:  20\n",
      "Learner number:  15\n",
      "Learner number:  10\n",
      "Learner number:  20\n",
      "Learner number:  25\n",
      "Learner number:  35\n",
      "Learner number:  20\n",
      "Learner number:  25\n",
      "Learner number:  15\n",
      "Learner number:  50\n",
      "Learner number:  35\n",
      "Learner number:  25\n",
      "Learner number:  20\n",
      "Learner number:  100\n",
      "Learner number:  50\n",
      "Learner number:  35\n",
      "Learner number:  25\n",
      "Learner number:  2\n",
      "Learner number:  100\n",
      "Learner number:  150\n",
      "Learner number:  50\n",
      "Learner number:  35\n",
      "Learner number:  150\n",
      "Learner number:  100\n",
      "Learner number:  50\n",
      "Learner number:  200\n",
      "Learner number: Learner number:  100\n",
      " 5\n",
      "Learner number:  150\n",
      "Learner number:  200\n",
      "max path length:  2\n",
      "max path length:  2\n",
      "max path length:  2\n",
      "Learner number:  150\n",
      "Learner number:  150\n",
      "Learner number:  7\n",
      "max path length:  3\n",
      "max path length:  3\n",
      "max path length:  3\n",
      "Learner number:  200\n",
      "Learner number:  200\n",
      "max path length:  4\n",
      "max path length:  4\n",
      "max path length:  4\n",
      "max path length:  5\n",
      "max path length:  5\n",
      "max path length:  5\n",
      "Learner number:  10\n",
      "Learner number:  15\n",
      "Learner number:  20\n",
      "Learner number:  200\n",
      "Learner number:  25\n",
      "Learner number:  35\n",
      "Learner number:  50\n",
      "max path length:  15\n",
      "max path length:  15\n",
      "max path length:  15\n",
      "Learner number:  100\n",
      "Learner number:  150\n",
      "Learner number:  200\n",
      "max path length:  15\n",
      "max path length:  15\n",
      "max path length:  15\n"
     ]
    }
   ],
   "source": [
    "\n"
   ],
   "metadata": {
    "collapsed": false
   }
  }
 ],
 "metadata": {
  "kernelspec": {
   "display_name": "Python 3",
   "language": "python",
   "name": "python3"
  },
  "language_info": {
   "codemirror_mode": {
    "name": "ipython",
    "version": 2
   },
   "file_extension": ".py",
   "mimetype": "text/x-python",
   "name": "python",
   "nbconvert_exporter": "python",
   "pygments_lexer": "ipython2",
   "version": "2.7.6"
  }
 },
 "nbformat": 4,
 "nbformat_minor": 0
}
