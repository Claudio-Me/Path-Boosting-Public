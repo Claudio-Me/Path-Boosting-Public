{
 "cells": [
  {
   "cell_type": "code",
   "execution_count": null,
   "outputs": [],
   "source": [
    "from analysis_article.true_positive_ratio import true_positive_ratio\n",
    "from analysis_article.paths_importance import paths_importance_analysis\n",
    "from analysis_article.cross_validation_overfitting_iteration import cross_validation\n",
    "from analysis_article.signal_to_noise import signal_to_noise\n"
   ],
   "metadata": {
    "collapsed": false
   }
  },
  {
   "cell_type": "markdown",
   "source": [
    "# Introduction\n",
    "\n",
    "Welcome to the accompanying Jupyter Notebook for our published paper. This interactive notebook is designed to allow you to reproduce the results presented in our study with ease. By following the instructions and running the provided code cells, you can verify the findings and explore the data and methodologies used in our research.\n",
    "\n",
    "Please be aware that due to the computational intensity of some of the analyses, the Jupyter Notebook environment may occasionally encounter difficulties in executing the entire workflow. If you encounter such issues, we have provided a robust alternative to ensure you can still replicate the results.\n",
    "\n",
    "Within the directory of this notebook, locate the function files that the Jupyter Notebook is intended to run. At the end of each of these files, there is a section of commented-out code. This code is identical to what is executed within the Jupyter Notebook. To proceed, simply uncomment this code block and run the file as a standalone script in your preferred Python environment. By doing so, you should be able to achieve the same outputs as those intended within the Jupyter Notebook setup without any compromise in the results.\n",
    "\n",
    "If `save_fig` is True the plots are saved in the folder `analysis_article`.\n",
    "\n",
    "We hope this notebook enhances your understanding of our work, and we encourage you to reach out with any questions or feedback you may have."
   ],
   "metadata": {
    "collapsed": false
   }
  },
  {
   "cell_type": "markdown",
   "source": [
    "# Introduction to True Positive Ratio Plotting with Synthetic Dataset Analysis\n",
    "\n",
    "In this snipped of code we will be plotting the true positive ratio using a synthetic dataset. Our objective is to gauge the efficacy of an algorithm known for its path selection capabilities.\n",
    "\n",
    "## Parameters Description:\n",
    "\n",
    "- `number_of_simulations` (Default: 200): This parameter controls the number of simulation iterations for the algorithm. To secure a robust measure of algorithm performance, we average the results over these simulations, defaulting to 200 unless adjusted according to user requirements.\n",
    "\n",
    "- `synthetic_dataset_scenario`: Selects the scenario for synthetic dataset generation, each designed to challenge the algorithm in different ways, reflecting various possible real-life conditions.\n",
    "\n",
    "## True Positive Ratio (TPR):\n",
    "The True Positive Ratio is indicative of the algorithm's accuracy, computed each iteration as the number of correct path selections over the total selected paths.\n",
    "\n",
    "## Synthetic Dataset:\n",
    "Through the `synthetic_dataset_scenario` parameter, the user can decide which setting to replicate.\n",
    "\n",
    "\n",
    "## Note on Path Boosting Methodologies:\n",
    "It is important to note the distinction in path boosting methods applied in different scenarios. For scenarios 1 and 2, where only a single metal center is considered, path boosting is employed in its standard form. However, scenario 3 is unique in that it applies cyclic path boosting, taking into account the multiple metal centers that influence the path selection process in more complex ways. This specificity in methodology is crucial to accurately modeling and analyzing each scenario's corresponding dataset.\n",
    "\n",
    "\n"
   ],
   "metadata": {
    "collapsed": false
   }
  },
  {
   "cell_type": "code",
   "execution_count": null,
   "outputs": [],
   "source": [
    "true_positive_ratio(number_of_simulations=200, synthetic_dataset_scenario=1, noise_variance=0.2,\n",
    "                        maximum_number_of_steps=None, save_fig=False, show_settings=True)"
   ],
   "metadata": {
    "collapsed": false
   }
  },
  {
   "cell_type": "markdown",
   "source": [
    "# Paths Importance\n",
    "Get paths importance, settings as before, in addition consider the parameter `update_features_importance_by_comparison`, to select the importance measure\n",
    "\n",
    "## Importance measure:\n",
    "If `update_features_importance_by_comparison` is `True` then the importance of each selected column is given by the error improvment of the seclected column compared with the second best choice.\n",
    "If `update_features_importance_by_comparison` is `False` the importance of the selected column is given by the overall error improvment.\n",
    "\n"
   ],
   "metadata": {
    "collapsed": false
   }
  },
  {
   "cell_type": "code",
   "execution_count": null,
   "outputs": [],
   "source": "paths_importance_analysis(\"5k_synthetic_dataset\", number_of_simulations=200, synthetic_dataset_scenario=2, noise_variance=0.2, maximum_number_of_steps=None, update_features_importance_by_comparison=True, show_settings=True)",
   "metadata": {
    "collapsed": false
   }
  },
  {
   "cell_type": "markdown",
   "source": [
    "## Cross Validation\n",
    "Performs cross validation to find the optimal `maximum_number_of_steps`.\n",
    "Patience is the number of consecutive steps where increases in the cross validation test error after which we consider the algorithm is overfitting"
   ],
   "metadata": {
    "collapsed": false
   }
  },
  {
   "metadata": {},
   "cell_type": "code",
   "outputs": [],
   "execution_count": null,
   "source": "cross_validation(number_of_simulations=15, k_folds=5, scenario=1, patience=3, dataset_name=\"5k_synthetic_dataset\", noise_variance=0.2, maximum_number_of_steps=None, save_fig=False, use_wrapper_boosting=None, show_settings=True)\n"
  },
  {
   "metadata": {},
   "cell_type": "markdown",
   "source": [
    "## Signal to noise ratio\n",
    "`noise_variance_list` is contains the list of the variance of the normal distribution used to generate the noise for the synthetic dataset."
   ]
  },
  {
   "metadata": {},
   "cell_type": "code",
   "outputs": [],
   "execution_count": null,
   "source": [
    "signal_to_noise(number_of_simulations=200,\n",
    "                noise_variance_list=[0.2, 0.5, 0.8, 1.1, 1.4, 1.7],\n",
    "                # [0.2, 0.325, 0.5, 0.625, 0.75, 0.875, 1, 1.125, 1.25, 1.375, 1.5, 1.625]\n",
    "                synthetic_dataset_scenario=1,\n",
    "                dataset_name=\"5k_synthetic_dataset\", maximum_number_of_steps=None,\n",
    "                save_fig=True, use_wrapper_boosting=None, show_settings=True)"
   ]
  },
  {
   "metadata": {},
   "cell_type": "markdown",
   "source": [
    "## Path Boosting\n",
    "Here you can run path boosting and obtain the main analysis on the results"
   ]
  },
  {
   "metadata": {
    "ExecuteTime": {
     "end_time": "2024-08-28T17:01:05.911413Z",
     "start_time": "2024-08-28T17:01:05.877086Z"
    }
   },
   "cell_type": "code",
   "source": [
    "import sys\n",
    "sys.path.insert(0, \"../\")\n",
    "%run 'main.py'"
   ],
   "outputs": [
    {
     "ename": "Exception",
     "evalue": "File `'main.py'` not found.",
     "output_type": "error",
     "traceback": [
      "\u001B[0;31m---------------------------------------------------------------------------\u001B[0m",
      "\u001B[0;31mOSError\u001B[0m                                   Traceback (most recent call last)",
      "File \u001B[0;32m~/PycharmProjects/pattern_boosting/venv/lib/python3.11/site-packages/IPython/core/magics/execution.py:697\u001B[0m, in \u001B[0;36mExecutionMagics.run\u001B[0;34m(self, parameter_s, runner, file_finder)\u001B[0m\n\u001B[1;32m    696\u001B[0m     fpath \u001B[38;5;241m=\u001B[39m arg_lst[\u001B[38;5;241m0\u001B[39m]\n\u001B[0;32m--> 697\u001B[0m     filename \u001B[38;5;241m=\u001B[39m \u001B[43mfile_finder\u001B[49m\u001B[43m(\u001B[49m\u001B[43mfpath\u001B[49m\u001B[43m)\u001B[49m\n\u001B[1;32m    698\u001B[0m \u001B[38;5;28;01mexcept\u001B[39;00m \u001B[38;5;167;01mIndexError\u001B[39;00m \u001B[38;5;28;01mas\u001B[39;00m e:\n",
      "File \u001B[0;32m~/PycharmProjects/pattern_boosting/venv/lib/python3.11/site-packages/IPython/utils/path.py:90\u001B[0m, in \u001B[0;36mget_py_filename\u001B[0;34m(name)\u001B[0m\n\u001B[1;32m     89\u001B[0m         \u001B[38;5;28;01mreturn\u001B[39;00m py_name\n\u001B[0;32m---> 90\u001B[0m \u001B[38;5;28;01mraise\u001B[39;00m \u001B[38;5;167;01mIOError\u001B[39;00m(\u001B[38;5;124m\"\u001B[39m\u001B[38;5;124mFile `\u001B[39m\u001B[38;5;132;01m%r\u001B[39;00m\u001B[38;5;124m` not found.\u001B[39m\u001B[38;5;124m\"\u001B[39m \u001B[38;5;241m%\u001B[39m name)\n",
      "\u001B[0;31mOSError\u001B[0m: File `'main.py'` not found.",
      "\nThe above exception was the direct cause of the following exception:\n",
      "\u001B[0;31mException\u001B[0m                                 Traceback (most recent call last)",
      "Cell \u001B[0;32mIn[6], line 3\u001B[0m\n\u001B[1;32m      1\u001B[0m \u001B[38;5;28;01mimport\u001B[39;00m \u001B[38;5;21;01msys\u001B[39;00m\n\u001B[1;32m      2\u001B[0m sys\u001B[38;5;241m.\u001B[39mpath\u001B[38;5;241m.\u001B[39minsert(\u001B[38;5;241m0\u001B[39m, \u001B[38;5;124m\"\u001B[39m\u001B[38;5;124m../\u001B[39m\u001B[38;5;124m\"\u001B[39m)\n\u001B[0;32m----> 3\u001B[0m \u001B[43mget_ipython\u001B[49m\u001B[43m(\u001B[49m\u001B[43m)\u001B[49m\u001B[38;5;241;43m.\u001B[39;49m\u001B[43mrun_line_magic\u001B[49m\u001B[43m(\u001B[49m\u001B[38;5;124;43m'\u001B[39;49m\u001B[38;5;124;43mrun\u001B[39;49m\u001B[38;5;124;43m'\u001B[39;49m\u001B[43m,\u001B[49m\u001B[43m \u001B[49m\u001B[38;5;124;43m\"\u001B[39;49m\u001B[38;5;124;43m'\u001B[39;49m\u001B[38;5;124;43mmain.py\u001B[39;49m\u001B[38;5;124;43m'\u001B[39;49m\u001B[38;5;124;43m\"\u001B[39;49m\u001B[43m)\u001B[49m\n",
      "File \u001B[0;32m~/PycharmProjects/pattern_boosting/venv/lib/python3.11/site-packages/IPython/core/interactiveshell.py:2369\u001B[0m, in \u001B[0;36mInteractiveShell.run_line_magic\u001B[0;34m(self, magic_name, line, _stack_depth)\u001B[0m\n\u001B[1;32m   2367\u001B[0m     kwargs[\u001B[38;5;124m'\u001B[39m\u001B[38;5;124mlocal_ns\u001B[39m\u001B[38;5;124m'\u001B[39m] \u001B[38;5;241m=\u001B[39m \u001B[38;5;28mself\u001B[39m\u001B[38;5;241m.\u001B[39mget_local_scope(stack_depth)\n\u001B[1;32m   2368\u001B[0m \u001B[38;5;28;01mwith\u001B[39;00m \u001B[38;5;28mself\u001B[39m\u001B[38;5;241m.\u001B[39mbuiltin_trap:\n\u001B[0;32m-> 2369\u001B[0m     result \u001B[38;5;241m=\u001B[39m \u001B[43mfn\u001B[49m\u001B[43m(\u001B[49m\u001B[38;5;241;43m*\u001B[39;49m\u001B[43margs\u001B[49m\u001B[43m,\u001B[49m\u001B[43m \u001B[49m\u001B[38;5;241;43m*\u001B[39;49m\u001B[38;5;241;43m*\u001B[39;49m\u001B[43mkwargs\u001B[49m\u001B[43m)\u001B[49m\n\u001B[1;32m   2371\u001B[0m \u001B[38;5;66;03m# The code below prevents the output from being displayed\u001B[39;00m\n\u001B[1;32m   2372\u001B[0m \u001B[38;5;66;03m# when using magics with decodator @output_can_be_silenced\u001B[39;00m\n\u001B[1;32m   2373\u001B[0m \u001B[38;5;66;03m# when the last Python token in the expression is a ';'.\u001B[39;00m\n\u001B[1;32m   2374\u001B[0m \u001B[38;5;28;01mif\u001B[39;00m \u001B[38;5;28mgetattr\u001B[39m(fn, magic\u001B[38;5;241m.\u001B[39mMAGIC_OUTPUT_CAN_BE_SILENCED, \u001B[38;5;28;01mFalse\u001B[39;00m):\n",
      "File \u001B[0;32m~/PycharmProjects/pattern_boosting/venv/lib/python3.11/site-packages/IPython/core/magics/execution.py:708\u001B[0m, in \u001B[0;36mExecutionMagics.run\u001B[0;34m(self, parameter_s, runner, file_finder)\u001B[0m\n\u001B[1;32m    706\u001B[0m     \u001B[38;5;28;01mif\u001B[39;00m os\u001B[38;5;241m.\u001B[39mname \u001B[38;5;241m==\u001B[39m \u001B[38;5;124m'\u001B[39m\u001B[38;5;124mnt\u001B[39m\u001B[38;5;124m'\u001B[39m \u001B[38;5;129;01mand\u001B[39;00m re\u001B[38;5;241m.\u001B[39mmatch(\u001B[38;5;124mr\u001B[39m\u001B[38;5;124m\"\u001B[39m\u001B[38;5;124m^\u001B[39m\u001B[38;5;124m'\u001B[39m\u001B[38;5;124m.*\u001B[39m\u001B[38;5;124m'\u001B[39m\u001B[38;5;124m$\u001B[39m\u001B[38;5;124m\"\u001B[39m,fpath):\n\u001B[1;32m    707\u001B[0m         warn(\u001B[38;5;124m'\u001B[39m\u001B[38;5;124mFor Windows, use double quotes to wrap a filename: \u001B[39m\u001B[38;5;132;01m%r\u001B[39;00m\u001B[38;5;124mun \u001B[39m\u001B[38;5;124m\"\u001B[39m\u001B[38;5;124mmypath\u001B[39m\u001B[38;5;130;01m\\\\\u001B[39;00m\u001B[38;5;124mmyfile.py\u001B[39m\u001B[38;5;124m\"\u001B[39m\u001B[38;5;124m'\u001B[39m)\n\u001B[0;32m--> 708\u001B[0m     \u001B[38;5;28;01mraise\u001B[39;00m \u001B[38;5;167;01mException\u001B[39;00m(msg) \u001B[38;5;28;01mfrom\u001B[39;00m \u001B[38;5;21;01me\u001B[39;00m\n\u001B[1;32m    709\u001B[0m \u001B[38;5;28;01mexcept\u001B[39;00m \u001B[38;5;167;01mTypeError\u001B[39;00m:\n\u001B[1;32m    710\u001B[0m     \u001B[38;5;28;01mif\u001B[39;00m fpath \u001B[38;5;129;01min\u001B[39;00m sys\u001B[38;5;241m.\u001B[39mmeta_path:\n",
      "\u001B[0;31mException\u001B[0m: File `'main.py'` not found."
     ]
    }
   ],
   "execution_count": 6
  },
  {
   "metadata": {},
   "cell_type": "code",
   "outputs": [],
   "execution_count": null,
   "source": ""
  }
 ],
 "metadata": {
  "kernelspec": {
   "display_name": "Python 3",
   "language": "python",
   "name": "python3"
  },
  "language_info": {
   "codemirror_mode": {
    "name": "ipython",
    "version": 2
   },
   "file_extension": ".py",
   "mimetype": "text/x-python",
   "name": "python",
   "nbconvert_exporter": "python",
   "pygments_lexer": "ipython2",
   "version": "2.7.6"
  }
 },
 "nbformat": 4,
 "nbformat_minor": 0
}
