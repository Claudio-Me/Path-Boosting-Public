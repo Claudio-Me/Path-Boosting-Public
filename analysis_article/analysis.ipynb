{
 "cells": [
  {
   "cell_type": "code",
   "execution_count": null,
   "outputs": [],
   "source": [
    "from analysis_article.true_positive_ratio import true_positive_ratio"
   ],
   "metadata": {
    "collapsed": false
   }
  },
  {
   "cell_type": "markdown",
   "source": [
    "# Introduction to True Positive Ratio Plotting with Synthetic Dataset Analysis\n",
    "\n",
    "In this snipped of code we will be plotting the true positive ratio using a synthetic dataset. Our objective is to gauge the efficacy of an algorithm known for its path selection capabilities.\n",
    "\n",
    "## Parameters Description:\n",
    "\n",
    "- `number_of_simulations` (Default: 200): This parameter controls the number of simulation iterations for the algorithm. To secure a robust measure of algorithm performance, we average the results over these simulations, defaulting to 200 unless adjusted according to user requirements.\n",
    "\n",
    "- `synthetic_dataset_scenario`: Selects the scenario for synthetic dataset generation, each designed to challenge the algorithm in different ways, reflecting various possible real-life conditions.\n",
    "\n",
    "## True Positive Ratio (TPR):\n",
    "The True Positive Ratio is indicative of the algorithm's accuracy, computed each iteration as the number of correct path selections over the total selected paths.\n",
    "\n",
    "## Synthetic Dataset:\n",
    "Through the `synthetic_dataset_scenario` parameter, the user can decide which setting to replicate.\n",
    "\n",
    "\n",
    "## Note on Path Boosting Methodologies:\n",
    "It is important to note the distinction in path boosting methods applied in different scenarios. For scenarios 1 and 2, where only a single metal center is considered, path boosting is employed in its standard form. However, scenario 3 is unique in that it applies cyclic path boosting, taking into account the multiple metal centers that influence the path selection process in more complex ways. This specificity in methodology is crucial to accurately modeling and analyzing each scenario's corresponding dataset.\n",
    "\n",
    "\n"
   ],
   "metadata": {
    "collapsed": false
   }
  },
  {
   "cell_type": "code",
   "execution_count": null,
   "outputs": [],
   "source": [
    "true_positive_ratio(number_of_simulations=200, synthetic_dataset_scenario=1, noise_variance=0.2,\n",
    "                        maximum_number_of_steps=None, save_fig=False)"
   ],
   "metadata": {
    "collapsed": false
   }
  },
  {
   "cell_type": "markdown",
   "source": [
    "dfbvbcvbc"
   ],
   "metadata": {
    "collapsed": false
   }
  },
  {
   "cell_type": "code",
   "execution_count": null,
   "outputs": [],
   "source": [],
   "metadata": {
    "collapsed": false
   }
  },
  {
   "cell_type": "markdown",
   "source": [],
   "metadata": {
    "collapsed": false
   }
  }
 ],
 "metadata": {
  "kernelspec": {
   "display_name": "Python 3",
   "language": "python",
   "name": "python3"
  },
  "language_info": {
   "codemirror_mode": {
    "name": "ipython",
    "version": 2
   },
   "file_extension": ".py",
   "mimetype": "text/x-python",
   "name": "python",
   "nbconvert_exporter": "python",
   "pygments_lexer": "ipython2",
   "version": "2.7.6"
  }
 },
 "nbformat": 4,
 "nbformat_minor": 0
}
